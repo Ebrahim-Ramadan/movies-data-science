{
  "nbformat": 4,
  "nbformat_minor": 0,
  "metadata": {
    "colab": {
      "provenance": [],
      "include_colab_link": true
    },
    "kernelspec": {
      "name": "python3",
      "display_name": "Python 3"
    },
    "language_info": {
      "name": "python"
    }
  },
  "cells": [
    {
      "cell_type": "markdown",
      "metadata": {
        "id": "view-in-github",
        "colab_type": "text"
      },
      "source": [
        "<a href=\"https://colab.research.google.com/github/Mostafa-Mohamed-Atef/movies-data-science/blob/main/movies.ipynb\" target=\"_parent\"><img src=\"https://colab.research.google.com/assets/colab-badge.svg\" alt=\"Open In Colab\"/></a>"
      ]
    },
    {
      "cell_type": "markdown",
      "metadata": {
        "id": "tC1Y6Irw3Ohw"
      },
      "source": [
        "# Data Preprocessing"
      ]
    },
    {
      "cell_type": "code",
      "execution_count": 76,
      "metadata": {
        "id": "OMSkBzVILnKj"
      },
      "outputs": [],
      "source": [
        "import pandas as pd\n",
        "data = pd.read_csv('movies.csv')"
      ]
    },
    {
      "cell_type": "code",
      "execution_count": 77,
      "metadata": {
        "colab": {
          "base_uri": "https://localhost:8080/"
        },
        "id": "Auy91LP6LuLJ",
        "outputId": "308e8672-4358-4027-aa61-f3ff51756053"
      },
      "outputs": [
        {
          "output_type": "stream",
          "name": "stdout",
          "text": [
            "<class 'pandas.core.frame.DataFrame'>\n",
            "RangeIndex: 1794 entries, 0 to 1793\n",
            "Data columns (total 15 columns):\n",
            " #   Column          Non-Null Count  Dtype  \n",
            "---  ------          --------------  -----  \n",
            " 0   year            1794 non-null   int64  \n",
            " 1   imdb            1794 non-null   object \n",
            " 2   title           1794 non-null   object \n",
            " 3   test            1794 non-null   object \n",
            " 4   clean_test      1794 non-null   object \n",
            " 5   binary          1794 non-null   object \n",
            " 6   budget          1794 non-null   object \n",
            " 7   domgross        1777 non-null   object \n",
            " 8   intgross        1783 non-null   float64\n",
            " 9   code            1794 non-null   object \n",
            " 10  budget_2013$    1794 non-null   object \n",
            " 11  domgross_2013$  1776 non-null   object \n",
            " 12  intgross_2013$  1783 non-null   float64\n",
            " 13  period code     1617 non-null   float64\n",
            " 14  decade code     1616 non-null   float64\n",
            "dtypes: float64(4), int64(1), object(10)\n",
            "memory usage: 210.4+ KB\n"
          ]
        }
      ],
      "source": [
        "data.info()"
      ]
    },
    {
      "cell_type": "code",
      "execution_count": 78,
      "metadata": {
        "colab": {
          "base_uri": "https://localhost:8080/",
          "height": 35
        },
        "id": "0O2e8k8VL6FS",
        "outputId": "4cd8faf4-ab98-4189-c775-65263c59ea47"
      },
      "outputs": [
        {
          "output_type": "execute_result",
          "data": {
            "text/plain": [
              "'data contains 1794 coloumns and 15 rows'"
            ],
            "application/vnd.google.colaboratory.intrinsic+json": {
              "type": "string"
            }
          },
          "metadata": {},
          "execution_count": 78
        }
      ],
      "source": [
        "f\"data contains {data.shape[0]} coloumns and {data.shape[1]} rows\""
      ]
    },
    {
      "cell_type": "code",
      "execution_count": 79,
      "metadata": {
        "colab": {
          "base_uri": "https://localhost:8080/",
          "height": 300
        },
        "id": "rxb1YKoFMHtS",
        "outputId": "54767760-0b70-440f-b49b-0950bc667102"
      },
      "outputs": [
        {
          "output_type": "execute_result",
          "data": {
            "text/plain": [
              "              year      intgross  intgross_2013$   period code   decade code\n",
              "count  1794.000000  1.783000e+03    1.783000e+03  1.617000e+03  1.616000e+03\n",
              "mean   2002.552397  1.495676e+08    1.968219e+08  2.292640e+06  1.788085e+05\n",
              "std       8.979731  2.097022e+08    2.828453e+08  3.313038e+07  5.732428e+06\n",
              "min    1970.000000  8.280000e+02    8.990000e+02  1.000000e+00  1.000000e+00\n",
              "25%    1998.000000  2.590510e+07    3.297935e+07  1.000000e+00  1.000000e+00\n",
              "50%    2005.000000  7.620072e+07    9.502021e+07  2.000000e+00  2.000000e+00\n",
              "75%    2009.000000  1.880110e+08    2.407561e+08  3.000000e+00  2.000000e+00\n",
              "max    2013.000000  2.783919e+09    3.171931e+09  8.933515e+08  2.198922e+08"
            ],
            "text/html": [
              "\n",
              "  <div id=\"df-c1883133-383f-46c6-898b-5472bc7ef70b\" class=\"colab-df-container\">\n",
              "    <div>\n",
              "<style scoped>\n",
              "    .dataframe tbody tr th:only-of-type {\n",
              "        vertical-align: middle;\n",
              "    }\n",
              "\n",
              "    .dataframe tbody tr th {\n",
              "        vertical-align: top;\n",
              "    }\n",
              "\n",
              "    .dataframe thead th {\n",
              "        text-align: right;\n",
              "    }\n",
              "</style>\n",
              "<table border=\"1\" class=\"dataframe\">\n",
              "  <thead>\n",
              "    <tr style=\"text-align: right;\">\n",
              "      <th></th>\n",
              "      <th>year</th>\n",
              "      <th>intgross</th>\n",
              "      <th>intgross_2013$</th>\n",
              "      <th>period code</th>\n",
              "      <th>decade code</th>\n",
              "    </tr>\n",
              "  </thead>\n",
              "  <tbody>\n",
              "    <tr>\n",
              "      <th>count</th>\n",
              "      <td>1794.000000</td>\n",
              "      <td>1.783000e+03</td>\n",
              "      <td>1.783000e+03</td>\n",
              "      <td>1.617000e+03</td>\n",
              "      <td>1.616000e+03</td>\n",
              "    </tr>\n",
              "    <tr>\n",
              "      <th>mean</th>\n",
              "      <td>2002.552397</td>\n",
              "      <td>1.495676e+08</td>\n",
              "      <td>1.968219e+08</td>\n",
              "      <td>2.292640e+06</td>\n",
              "      <td>1.788085e+05</td>\n",
              "    </tr>\n",
              "    <tr>\n",
              "      <th>std</th>\n",
              "      <td>8.979731</td>\n",
              "      <td>2.097022e+08</td>\n",
              "      <td>2.828453e+08</td>\n",
              "      <td>3.313038e+07</td>\n",
              "      <td>5.732428e+06</td>\n",
              "    </tr>\n",
              "    <tr>\n",
              "      <th>min</th>\n",
              "      <td>1970.000000</td>\n",
              "      <td>8.280000e+02</td>\n",
              "      <td>8.990000e+02</td>\n",
              "      <td>1.000000e+00</td>\n",
              "      <td>1.000000e+00</td>\n",
              "    </tr>\n",
              "    <tr>\n",
              "      <th>25%</th>\n",
              "      <td>1998.000000</td>\n",
              "      <td>2.590510e+07</td>\n",
              "      <td>3.297935e+07</td>\n",
              "      <td>1.000000e+00</td>\n",
              "      <td>1.000000e+00</td>\n",
              "    </tr>\n",
              "    <tr>\n",
              "      <th>50%</th>\n",
              "      <td>2005.000000</td>\n",
              "      <td>7.620072e+07</td>\n",
              "      <td>9.502021e+07</td>\n",
              "      <td>2.000000e+00</td>\n",
              "      <td>2.000000e+00</td>\n",
              "    </tr>\n",
              "    <tr>\n",
              "      <th>75%</th>\n",
              "      <td>2009.000000</td>\n",
              "      <td>1.880110e+08</td>\n",
              "      <td>2.407561e+08</td>\n",
              "      <td>3.000000e+00</td>\n",
              "      <td>2.000000e+00</td>\n",
              "    </tr>\n",
              "    <tr>\n",
              "      <th>max</th>\n",
              "      <td>2013.000000</td>\n",
              "      <td>2.783919e+09</td>\n",
              "      <td>3.171931e+09</td>\n",
              "      <td>8.933515e+08</td>\n",
              "      <td>2.198922e+08</td>\n",
              "    </tr>\n",
              "  </tbody>\n",
              "</table>\n",
              "</div>\n",
              "    <div class=\"colab-df-buttons\">\n",
              "\n",
              "  <div class=\"colab-df-container\">\n",
              "    <button class=\"colab-df-convert\" onclick=\"convertToInteractive('df-c1883133-383f-46c6-898b-5472bc7ef70b')\"\n",
              "            title=\"Convert this dataframe to an interactive table.\"\n",
              "            style=\"display:none;\">\n",
              "\n",
              "  <svg xmlns=\"http://www.w3.org/2000/svg\" height=\"24px\" viewBox=\"0 -960 960 960\">\n",
              "    <path d=\"M120-120v-720h720v720H120Zm60-500h600v-160H180v160Zm220 220h160v-160H400v160Zm0 220h160v-160H400v160ZM180-400h160v-160H180v160Zm440 0h160v-160H620v160ZM180-180h160v-160H180v160Zm440 0h160v-160H620v160Z\"/>\n",
              "  </svg>\n",
              "    </button>\n",
              "\n",
              "  <style>\n",
              "    .colab-df-container {\n",
              "      display:flex;\n",
              "      gap: 12px;\n",
              "    }\n",
              "\n",
              "    .colab-df-convert {\n",
              "      background-color: #E8F0FE;\n",
              "      border: none;\n",
              "      border-radius: 50%;\n",
              "      cursor: pointer;\n",
              "      display: none;\n",
              "      fill: #1967D2;\n",
              "      height: 32px;\n",
              "      padding: 0 0 0 0;\n",
              "      width: 32px;\n",
              "    }\n",
              "\n",
              "    .colab-df-convert:hover {\n",
              "      background-color: #E2EBFA;\n",
              "      box-shadow: 0px 1px 2px rgba(60, 64, 67, 0.3), 0px 1px 3px 1px rgba(60, 64, 67, 0.15);\n",
              "      fill: #174EA6;\n",
              "    }\n",
              "\n",
              "    .colab-df-buttons div {\n",
              "      margin-bottom: 4px;\n",
              "    }\n",
              "\n",
              "    [theme=dark] .colab-df-convert {\n",
              "      background-color: #3B4455;\n",
              "      fill: #D2E3FC;\n",
              "    }\n",
              "\n",
              "    [theme=dark] .colab-df-convert:hover {\n",
              "      background-color: #434B5C;\n",
              "      box-shadow: 0px 1px 3px 1px rgba(0, 0, 0, 0.15);\n",
              "      filter: drop-shadow(0px 1px 2px rgba(0, 0, 0, 0.3));\n",
              "      fill: #FFFFFF;\n",
              "    }\n",
              "  </style>\n",
              "\n",
              "    <script>\n",
              "      const buttonEl =\n",
              "        document.querySelector('#df-c1883133-383f-46c6-898b-5472bc7ef70b button.colab-df-convert');\n",
              "      buttonEl.style.display =\n",
              "        google.colab.kernel.accessAllowed ? 'block' : 'none';\n",
              "\n",
              "      async function convertToInteractive(key) {\n",
              "        const element = document.querySelector('#df-c1883133-383f-46c6-898b-5472bc7ef70b');\n",
              "        const dataTable =\n",
              "          await google.colab.kernel.invokeFunction('convertToInteractive',\n",
              "                                                    [key], {});\n",
              "        if (!dataTable) return;\n",
              "\n",
              "        const docLinkHtml = 'Like what you see? Visit the ' +\n",
              "          '<a target=\"_blank\" href=https://colab.research.google.com/notebooks/data_table.ipynb>data table notebook</a>'\n",
              "          + ' to learn more about interactive tables.';\n",
              "        element.innerHTML = '';\n",
              "        dataTable['output_type'] = 'display_data';\n",
              "        await google.colab.output.renderOutput(dataTable, element);\n",
              "        const docLink = document.createElement('div');\n",
              "        docLink.innerHTML = docLinkHtml;\n",
              "        element.appendChild(docLink);\n",
              "      }\n",
              "    </script>\n",
              "  </div>\n",
              "\n",
              "\n",
              "<div id=\"df-ffbc1990-ec47-40c2-8ca3-1e659fd85b1a\">\n",
              "  <button class=\"colab-df-quickchart\" onclick=\"quickchart('df-ffbc1990-ec47-40c2-8ca3-1e659fd85b1a')\"\n",
              "            title=\"Suggest charts\"\n",
              "            style=\"display:none;\">\n",
              "\n",
              "<svg xmlns=\"http://www.w3.org/2000/svg\" height=\"24px\"viewBox=\"0 0 24 24\"\n",
              "     width=\"24px\">\n",
              "    <g>\n",
              "        <path d=\"M19 3H5c-1.1 0-2 .9-2 2v14c0 1.1.9 2 2 2h14c1.1 0 2-.9 2-2V5c0-1.1-.9-2-2-2zM9 17H7v-7h2v7zm4 0h-2V7h2v10zm4 0h-2v-4h2v4z\"/>\n",
              "    </g>\n",
              "</svg>\n",
              "  </button>\n",
              "\n",
              "<style>\n",
              "  .colab-df-quickchart {\n",
              "      --bg-color: #E8F0FE;\n",
              "      --fill-color: #1967D2;\n",
              "      --hover-bg-color: #E2EBFA;\n",
              "      --hover-fill-color: #174EA6;\n",
              "      --disabled-fill-color: #AAA;\n",
              "      --disabled-bg-color: #DDD;\n",
              "  }\n",
              "\n",
              "  [theme=dark] .colab-df-quickchart {\n",
              "      --bg-color: #3B4455;\n",
              "      --fill-color: #D2E3FC;\n",
              "      --hover-bg-color: #434B5C;\n",
              "      --hover-fill-color: #FFFFFF;\n",
              "      --disabled-bg-color: #3B4455;\n",
              "      --disabled-fill-color: #666;\n",
              "  }\n",
              "\n",
              "  .colab-df-quickchart {\n",
              "    background-color: var(--bg-color);\n",
              "    border: none;\n",
              "    border-radius: 50%;\n",
              "    cursor: pointer;\n",
              "    display: none;\n",
              "    fill: var(--fill-color);\n",
              "    height: 32px;\n",
              "    padding: 0;\n",
              "    width: 32px;\n",
              "  }\n",
              "\n",
              "  .colab-df-quickchart:hover {\n",
              "    background-color: var(--hover-bg-color);\n",
              "    box-shadow: 0 1px 2px rgba(60, 64, 67, 0.3), 0 1px 3px 1px rgba(60, 64, 67, 0.15);\n",
              "    fill: var(--button-hover-fill-color);\n",
              "  }\n",
              "\n",
              "  .colab-df-quickchart-complete:disabled,\n",
              "  .colab-df-quickchart-complete:disabled:hover {\n",
              "    background-color: var(--disabled-bg-color);\n",
              "    fill: var(--disabled-fill-color);\n",
              "    box-shadow: none;\n",
              "  }\n",
              "\n",
              "  .colab-df-spinner {\n",
              "    border: 2px solid var(--fill-color);\n",
              "    border-color: transparent;\n",
              "    border-bottom-color: var(--fill-color);\n",
              "    animation:\n",
              "      spin 1s steps(1) infinite;\n",
              "  }\n",
              "\n",
              "  @keyframes spin {\n",
              "    0% {\n",
              "      border-color: transparent;\n",
              "      border-bottom-color: var(--fill-color);\n",
              "      border-left-color: var(--fill-color);\n",
              "    }\n",
              "    20% {\n",
              "      border-color: transparent;\n",
              "      border-left-color: var(--fill-color);\n",
              "      border-top-color: var(--fill-color);\n",
              "    }\n",
              "    30% {\n",
              "      border-color: transparent;\n",
              "      border-left-color: var(--fill-color);\n",
              "      border-top-color: var(--fill-color);\n",
              "      border-right-color: var(--fill-color);\n",
              "    }\n",
              "    40% {\n",
              "      border-color: transparent;\n",
              "      border-right-color: var(--fill-color);\n",
              "      border-top-color: var(--fill-color);\n",
              "    }\n",
              "    60% {\n",
              "      border-color: transparent;\n",
              "      border-right-color: var(--fill-color);\n",
              "    }\n",
              "    80% {\n",
              "      border-color: transparent;\n",
              "      border-right-color: var(--fill-color);\n",
              "      border-bottom-color: var(--fill-color);\n",
              "    }\n",
              "    90% {\n",
              "      border-color: transparent;\n",
              "      border-bottom-color: var(--fill-color);\n",
              "    }\n",
              "  }\n",
              "</style>\n",
              "\n",
              "  <script>\n",
              "    async function quickchart(key) {\n",
              "      const quickchartButtonEl =\n",
              "        document.querySelector('#' + key + ' button');\n",
              "      quickchartButtonEl.disabled = true;  // To prevent multiple clicks.\n",
              "      quickchartButtonEl.classList.add('colab-df-spinner');\n",
              "      try {\n",
              "        const charts = await google.colab.kernel.invokeFunction(\n",
              "            'suggestCharts', [key], {});\n",
              "      } catch (error) {\n",
              "        console.error('Error during call to suggestCharts:', error);\n",
              "      }\n",
              "      quickchartButtonEl.classList.remove('colab-df-spinner');\n",
              "      quickchartButtonEl.classList.add('colab-df-quickchart-complete');\n",
              "    }\n",
              "    (() => {\n",
              "      let quickchartButtonEl =\n",
              "        document.querySelector('#df-ffbc1990-ec47-40c2-8ca3-1e659fd85b1a button');\n",
              "      quickchartButtonEl.style.display =\n",
              "        google.colab.kernel.accessAllowed ? 'block' : 'none';\n",
              "    })();\n",
              "  </script>\n",
              "</div>\n",
              "\n",
              "    </div>\n",
              "  </div>\n"
            ],
            "application/vnd.google.colaboratory.intrinsic+json": {
              "type": "dataframe",
              "summary": "{\n  \"name\": \"data\",\n  \"rows\": 8,\n  \"fields\": [\n    {\n      \"column\": \"year\",\n      \"properties\": {\n        \"dtype\": \"number\",\n        \"std\": 697.2472262159223,\n        \"min\": 8.979730993074794,\n        \"max\": 2013.0,\n        \"num_unique_values\": 8,\n        \"samples\": [\n          2002.552396878484,\n          2005.0,\n          1794.0\n        ],\n        \"semantic_type\": \"\",\n        \"description\": \"\"\n      }\n    },\n    {\n      \"column\": \"intgross\",\n      \"properties\": {\n        \"dtype\": \"number\",\n        \"std\": 955056128.5365332,\n        \"min\": 828.0,\n        \"max\": 2783918982.0,\n        \"num_unique_values\": 8,\n        \"samples\": [\n          149567592.2703309,\n          76200721.0,\n          1783.0\n        ],\n        \"semantic_type\": \"\",\n        \"description\": \"\"\n      }\n    },\n    {\n      \"column\": \"intgross_2013$\",\n      \"properties\": {\n        \"dtype\": \"number\",\n        \"std\": 1084142720.774331,\n        \"min\": 899.0,\n        \"max\": 3171930973.0,\n        \"num_unique_values\": 8,\n        \"samples\": [\n          196821871.0600112,\n          95020213.0,\n          1783.0\n        ],\n        \"semantic_type\": \"\",\n        \"description\": \"\"\n      }\n    },\n    {\n      \"column\": \"period code\",\n      \"properties\": {\n        \"dtype\": \"number\",\n        \"std\": 314268231.9802986,\n        \"min\": 1.0,\n        \"max\": 893351507.0,\n        \"num_unique_values\": 7,\n        \"samples\": [\n          1617.0,\n          2292640.2690166975,\n          3.0\n        ],\n        \"semantic_type\": \"\",\n        \"description\": \"\"\n      }\n    },\n    {\n      \"column\": \"decade code\",\n      \"properties\": {\n        \"dtype\": \"number\",\n        \"std\": 77470704.75290012,\n        \"min\": 1.0,\n        \"max\": 219892171.0,\n        \"num_unique_values\": 6,\n        \"samples\": [\n          1616.0,\n          178808.49876237623,\n          219892171.0\n        ],\n        \"semantic_type\": \"\",\n        \"description\": \"\"\n      }\n    }\n  ]\n}"
            }
          },
          "metadata": {},
          "execution_count": 79
        }
      ],
      "source": [
        "data.describe()"
      ]
    },
    {
      "cell_type": "markdown",
      "metadata": {
        "id": "6kbfM0Ka4s5T"
      },
      "source": [
        "##Removing duplicates:"
      ]
    },
    {
      "cell_type": "code",
      "execution_count": 80,
      "metadata": {
        "colab": {
          "base_uri": "https://localhost:8080/"
        },
        "id": "WG4pAMQSuE2J",
        "outputId": "a02aa7af-654b-4204-b9cc-cf403baf6c95"
      },
      "outputs": [
        {
          "output_type": "execute_result",
          "data": {
            "text/plain": [
              "0"
            ]
          },
          "metadata": {},
          "execution_count": 80
        }
      ],
      "source": [
        "data.duplicated().sum()"
      ]
    },
    {
      "cell_type": "code",
      "execution_count": 81,
      "metadata": {
        "colab": {
          "base_uri": "https://localhost:8080/"
        },
        "id": "DqWmTGB6MJ0x",
        "outputId": "576b10dd-c4d7-4600-b6de-a860a36095a7"
      },
      "outputs": [
        {
          "output_type": "execute_result",
          "data": {
            "text/plain": [
              "year                0\n",
              "imdb                0\n",
              "title               0\n",
              "test                0\n",
              "clean_test          0\n",
              "binary              0\n",
              "budget              0\n",
              "domgross           17\n",
              "intgross           11\n",
              "code                0\n",
              "budget_2013$        0\n",
              "domgross_2013$     18\n",
              "intgross_2013$     11\n",
              "period code       177\n",
              "decade code       178\n",
              "dtype: int64"
            ]
          },
          "metadata": {},
          "execution_count": 81
        }
      ],
      "source": [
        "data.isna().sum()"
      ]
    },
    {
      "cell_type": "markdown",
      "metadata": {
        "id": "jf7IdUdMSioi"
      },
      "source": [
        "#Handling missing values"
      ]
    },
    {
      "cell_type": "markdown",
      "metadata": {
        "id": "OyllbwuF-8Yq"
      },
      "source": [
        "by checking the dataset we found out that every 5 years the period code increment"
      ]
    },
    {
      "cell_type": "code",
      "execution_count": 82,
      "metadata": {
        "id": "ZJ-rwSc9Mc2P"
      },
      "outputs": [],
      "source": [
        "data['period code'].fillna(0,inplace=True)"
      ]
    },
    {
      "cell_type": "code",
      "execution_count": 83,
      "metadata": {
        "id": "-KBwggA4Mk3a"
      },
      "outputs": [],
      "source": [
        "data.loc[data['year']>= 2010,\"period code\"] = 1\n",
        "data.loc[(data['year']>= 2005) & (data['year']<2010),\"period code\"] = 2\n",
        "data.loc[(data['year']>= 2000) & (data['year']<2005),\"period code\"] = 3\n",
        "data.loc[(data['year']>= 1995) & (data['year']<2000),\"period code\"] = 4\n",
        "data.loc[(data['year']>= 1990 )& (data['year']<1995),\"period code\"] = 5\n",
        "data.loc[(data['year']>= 1985 )& (data['year']<1990),\"period code\"] = 6\n",
        "data.loc[(data['year']>= 1980 )& (data['year']<1985),\"period code\"] = 7\n",
        "data.loc[(data['year']>= 1975 )& (data['year']<1980),\"period code\"] = 8\n",
        "data.loc[(data['year']>= 1970 )& (data['year']<1975),\"period code\"] = 9"
      ]
    },
    {
      "cell_type": "code",
      "execution_count": 84,
      "metadata": {
        "colab": {
          "base_uri": "https://localhost:8080/"
        },
        "id": "65MP4hU8NOqm",
        "outputId": "b2386918-9130-4f09-f218-5d8f98a967ff"
      },
      "outputs": [
        {
          "output_type": "execute_result",
          "data": {
            "text/plain": [
              "year                0\n",
              "imdb                0\n",
              "title               0\n",
              "test                0\n",
              "clean_test          0\n",
              "binary              0\n",
              "budget              0\n",
              "domgross           17\n",
              "intgross           11\n",
              "code                0\n",
              "budget_2013$        0\n",
              "domgross_2013$     18\n",
              "intgross_2013$     11\n",
              "period code         0\n",
              "decade code       178\n",
              "dtype: int64"
            ]
          },
          "metadata": {},
          "execution_count": 84
        }
      ],
      "source": [
        "data.isna().sum()"
      ]
    },
    {
      "cell_type": "code",
      "execution_count": 85,
      "metadata": {
        "id": "wRod_cbEOYzH"
      },
      "outputs": [],
      "source": [
        "data['decade code'].fillna(0,inplace=True)"
      ]
    },
    {
      "cell_type": "code",
      "execution_count": 86,
      "metadata": {
        "id": "gO-22omnOlXc"
      },
      "outputs": [],
      "source": [
        "data.loc[data['year']>= 2010,'decade code'] = 1\n",
        "data.loc[(data['year']>= 2000) & (data['year']<2010),'decade code'] = 2\n",
        "data.loc[(data['year']>= 1990 )& (data['year']<2000),'decade code'] = 3\n",
        "data.loc[(data['year']>= 1980 )& (data['year']<1990),'decade code'] = 4\n",
        "data.loc[(data['year']>= 1970 )& (data['year']<1980),'decade code'] = 5"
      ]
    },
    {
      "cell_type": "code",
      "execution_count": 87,
      "metadata": {
        "colab": {
          "base_uri": "https://localhost:8080/"
        },
        "id": "cSvv12wGPA8W",
        "outputId": "78cfd479-5020-4907-e118-21f37f784118"
      },
      "outputs": [
        {
          "output_type": "execute_result",
          "data": {
            "text/plain": [
              "year               0\n",
              "imdb               0\n",
              "title              0\n",
              "test               0\n",
              "clean_test         0\n",
              "binary             0\n",
              "budget             0\n",
              "domgross          17\n",
              "intgross          11\n",
              "code               0\n",
              "budget_2013$       0\n",
              "domgross_2013$    18\n",
              "intgross_2013$    11\n",
              "period code        0\n",
              "decade code        0\n",
              "dtype: int64"
            ]
          },
          "metadata": {},
          "execution_count": 87
        }
      ],
      "source": [
        "data.isna().sum()"
      ]
    },
    {
      "cell_type": "code",
      "execution_count": 88,
      "metadata": {
        "colab": {
          "base_uri": "https://localhost:8080/",
          "height": 614
        },
        "id": "oYAMOd_zPDRu",
        "outputId": "72234231-5b96-48f0-cc45-47c73309e504"
      },
      "outputs": [
        {
          "output_type": "execute_result",
          "data": {
            "text/plain": [
              "      year       imdb                                       title  \\\n",
              "73    2013  tt2005374                           the frozen ground   \n",
              "188   2011  tt1422136                       a lonely place to die   \n",
              "207   2011  tt1701990                                   detention   \n",
              "434   2010  tt1216520                                        womb   \n",
              "486   2009  tt1024744                        i come with the rain   \n",
              "552   2009  tt1068678                     veronika decides to die   \n",
              "559   2009  tt0448182                         yesterday was a lie   \n",
              "575   2008  tt0489018                             day of the dead   \n",
              "625   2008  tt0942903                  stargate: the ark of truth   \n",
              "650   2008  tt0882978  three kingdoms: resurrection of the dragon   \n",
              "663   2007  tt1038988                                       [rec]   \n",
              "721   2007  tt0756683                          the man from earth   \n",
              "735   2007  tt0496436                    white noise 2: the light   \n",
              "740   2006  tt0416496                                    bandidas   \n",
              "769   2006  tt0490166                          london to brighton   \n",
              "1675  1985  tt0088993                             day of the dead   \n",
              "1678  1985  tt0091578                     my beautiful laundrette   \n",
              "1785  1972  tt0068156                                        1776   \n",
              "\n",
              "                  test clean_test binary    budget domgross    intgross  \\\n",
              "73    nowomen-disagree    nowomen   fail  19200000      NaN         NaN   \n",
              "188                 ok         ok   pass   4000000      NaN    442550.0   \n",
              "207                 ok         ok   pass  10000000      NaN         NaN   \n",
              "434                 ok         ok   pass  13000000      NaN         NaN   \n",
              "486            nowomen    nowomen   fail  18000000        0    627422.0   \n",
              "552                 ok         ok   pass   9000000      NaN         NaN   \n",
              "559                 ok         ok   pass    200000      NaN         NaN   \n",
              "575                 ok         ok   pass  18000000      NaN         NaN   \n",
              "625   dubious-disagree    dubious   fail   7000000      NaN         NaN   \n",
              "650             notalk     notalk   fail  20000000      NaN  22139590.0   \n",
              "663                 ok         ok   pass   2100000      NaN  27117954.0   \n",
              "721             notalk     notalk   fail    200000      NaN         NaN   \n",
              "735             notalk     notalk   fail  10000000      NaN   8243567.0   \n",
              "740                 ok         ok   pass  35000000      NaN  18400000.0   \n",
              "769                 ok         ok   pass    825000      NaN    610776.0   \n",
              "1675           nowomen    nowomen   fail  18000000      NaN         NaN   \n",
              "1678               men        men   fail    400000      NaN         NaN   \n",
              "1785            notalk     notalk   fail   4000000      NaN         NaN   \n",
              "\n",
              "          code budget_2013$ domgross_2013$  intgross_2013$  period code  \\\n",
              "73    2013fail     19200000            NaN             NaN          1.0   \n",
              "188   2011pass      4142763            NaN        458345.0          1.0   \n",
              "207   2011pass     10356908            NaN             NaN          1.0   \n",
              "434   2010pass     13887014            NaN             NaN          1.0   \n",
              "486   2009fail     19543169            NaN        681212.0          2.0   \n",
              "552   2009pass      9771584            NaN             NaN          2.0   \n",
              "559   2009pass       217146            NaN             NaN          2.0   \n",
              "575   2008pass     19480614            NaN             NaN          2.0   \n",
              "625   2008fail      7575794            NaN             NaN          2.0   \n",
              "650   2008fail     21645126            NaN      23960711.0          2.0   \n",
              "663   2007pass      2359441            NaN      30468201.0          2.0   \n",
              "721   2007fail       224709            NaN             NaN          2.0   \n",
              "735   2007fail     11235435            NaN       9262006.0          2.0   \n",
              "740   2006pass     40452872            NaN      21266653.0          2.0   \n",
              "769   2006pass       953532            NaN        705933.0          2.0   \n",
              "1675  1985fail     38971004            NaN             NaN          6.0   \n",
              "1678  1985fail       866022            NaN             NaN          6.0   \n",
              "1785  1972fail     22288557            NaN             NaN          9.0   \n",
              "\n",
              "      decade code  \n",
              "73            1.0  \n",
              "188           1.0  \n",
              "207           1.0  \n",
              "434           1.0  \n",
              "486           2.0  \n",
              "552           2.0  \n",
              "559           2.0  \n",
              "575           2.0  \n",
              "625           2.0  \n",
              "650           2.0  \n",
              "663           2.0  \n",
              "721           2.0  \n",
              "735           2.0  \n",
              "740           2.0  \n",
              "769           2.0  \n",
              "1675          4.0  \n",
              "1678          4.0  \n",
              "1785          5.0  "
            ],
            "text/html": [
              "\n",
              "  <div id=\"df-acde0a05-7219-4533-a143-9e446b839a29\" class=\"colab-df-container\">\n",
              "    <div>\n",
              "<style scoped>\n",
              "    .dataframe tbody tr th:only-of-type {\n",
              "        vertical-align: middle;\n",
              "    }\n",
              "\n",
              "    .dataframe tbody tr th {\n",
              "        vertical-align: top;\n",
              "    }\n",
              "\n",
              "    .dataframe thead th {\n",
              "        text-align: right;\n",
              "    }\n",
              "</style>\n",
              "<table border=\"1\" class=\"dataframe\">\n",
              "  <thead>\n",
              "    <tr style=\"text-align: right;\">\n",
              "      <th></th>\n",
              "      <th>year</th>\n",
              "      <th>imdb</th>\n",
              "      <th>title</th>\n",
              "      <th>test</th>\n",
              "      <th>clean_test</th>\n",
              "      <th>binary</th>\n",
              "      <th>budget</th>\n",
              "      <th>domgross</th>\n",
              "      <th>intgross</th>\n",
              "      <th>code</th>\n",
              "      <th>budget_2013$</th>\n",
              "      <th>domgross_2013$</th>\n",
              "      <th>intgross_2013$</th>\n",
              "      <th>period code</th>\n",
              "      <th>decade code</th>\n",
              "    </tr>\n",
              "  </thead>\n",
              "  <tbody>\n",
              "    <tr>\n",
              "      <th>73</th>\n",
              "      <td>2013</td>\n",
              "      <td>tt2005374</td>\n",
              "      <td>the frozen ground</td>\n",
              "      <td>nowomen-disagree</td>\n",
              "      <td>nowomen</td>\n",
              "      <td>fail</td>\n",
              "      <td>19200000</td>\n",
              "      <td>NaN</td>\n",
              "      <td>NaN</td>\n",
              "      <td>2013fail</td>\n",
              "      <td>19200000</td>\n",
              "      <td>NaN</td>\n",
              "      <td>NaN</td>\n",
              "      <td>1.0</td>\n",
              "      <td>1.0</td>\n",
              "    </tr>\n",
              "    <tr>\n",
              "      <th>188</th>\n",
              "      <td>2011</td>\n",
              "      <td>tt1422136</td>\n",
              "      <td>a lonely place to die</td>\n",
              "      <td>ok</td>\n",
              "      <td>ok</td>\n",
              "      <td>pass</td>\n",
              "      <td>4000000</td>\n",
              "      <td>NaN</td>\n",
              "      <td>442550.0</td>\n",
              "      <td>2011pass</td>\n",
              "      <td>4142763</td>\n",
              "      <td>NaN</td>\n",
              "      <td>458345.0</td>\n",
              "      <td>1.0</td>\n",
              "      <td>1.0</td>\n",
              "    </tr>\n",
              "    <tr>\n",
              "      <th>207</th>\n",
              "      <td>2011</td>\n",
              "      <td>tt1701990</td>\n",
              "      <td>detention</td>\n",
              "      <td>ok</td>\n",
              "      <td>ok</td>\n",
              "      <td>pass</td>\n",
              "      <td>10000000</td>\n",
              "      <td>NaN</td>\n",
              "      <td>NaN</td>\n",
              "      <td>2011pass</td>\n",
              "      <td>10356908</td>\n",
              "      <td>NaN</td>\n",
              "      <td>NaN</td>\n",
              "      <td>1.0</td>\n",
              "      <td>1.0</td>\n",
              "    </tr>\n",
              "    <tr>\n",
              "      <th>434</th>\n",
              "      <td>2010</td>\n",
              "      <td>tt1216520</td>\n",
              "      <td>womb</td>\n",
              "      <td>ok</td>\n",
              "      <td>ok</td>\n",
              "      <td>pass</td>\n",
              "      <td>13000000</td>\n",
              "      <td>NaN</td>\n",
              "      <td>NaN</td>\n",
              "      <td>2010pass</td>\n",
              "      <td>13887014</td>\n",
              "      <td>NaN</td>\n",
              "      <td>NaN</td>\n",
              "      <td>1.0</td>\n",
              "      <td>1.0</td>\n",
              "    </tr>\n",
              "    <tr>\n",
              "      <th>486</th>\n",
              "      <td>2009</td>\n",
              "      <td>tt1024744</td>\n",
              "      <td>i come with the rain</td>\n",
              "      <td>nowomen</td>\n",
              "      <td>nowomen</td>\n",
              "      <td>fail</td>\n",
              "      <td>18000000</td>\n",
              "      <td>0</td>\n",
              "      <td>627422.0</td>\n",
              "      <td>2009fail</td>\n",
              "      <td>19543169</td>\n",
              "      <td>NaN</td>\n",
              "      <td>681212.0</td>\n",
              "      <td>2.0</td>\n",
              "      <td>2.0</td>\n",
              "    </tr>\n",
              "    <tr>\n",
              "      <th>552</th>\n",
              "      <td>2009</td>\n",
              "      <td>tt1068678</td>\n",
              "      <td>veronika decides to die</td>\n",
              "      <td>ok</td>\n",
              "      <td>ok</td>\n",
              "      <td>pass</td>\n",
              "      <td>9000000</td>\n",
              "      <td>NaN</td>\n",
              "      <td>NaN</td>\n",
              "      <td>2009pass</td>\n",
              "      <td>9771584</td>\n",
              "      <td>NaN</td>\n",
              "      <td>NaN</td>\n",
              "      <td>2.0</td>\n",
              "      <td>2.0</td>\n",
              "    </tr>\n",
              "    <tr>\n",
              "      <th>559</th>\n",
              "      <td>2009</td>\n",
              "      <td>tt0448182</td>\n",
              "      <td>yesterday was a lie</td>\n",
              "      <td>ok</td>\n",
              "      <td>ok</td>\n",
              "      <td>pass</td>\n",
              "      <td>200000</td>\n",
              "      <td>NaN</td>\n",
              "      <td>NaN</td>\n",
              "      <td>2009pass</td>\n",
              "      <td>217146</td>\n",
              "      <td>NaN</td>\n",
              "      <td>NaN</td>\n",
              "      <td>2.0</td>\n",
              "      <td>2.0</td>\n",
              "    </tr>\n",
              "    <tr>\n",
              "      <th>575</th>\n",
              "      <td>2008</td>\n",
              "      <td>tt0489018</td>\n",
              "      <td>day of the dead</td>\n",
              "      <td>ok</td>\n",
              "      <td>ok</td>\n",
              "      <td>pass</td>\n",
              "      <td>18000000</td>\n",
              "      <td>NaN</td>\n",
              "      <td>NaN</td>\n",
              "      <td>2008pass</td>\n",
              "      <td>19480614</td>\n",
              "      <td>NaN</td>\n",
              "      <td>NaN</td>\n",
              "      <td>2.0</td>\n",
              "      <td>2.0</td>\n",
              "    </tr>\n",
              "    <tr>\n",
              "      <th>625</th>\n",
              "      <td>2008</td>\n",
              "      <td>tt0942903</td>\n",
              "      <td>stargate: the ark of truth</td>\n",
              "      <td>dubious-disagree</td>\n",
              "      <td>dubious</td>\n",
              "      <td>fail</td>\n",
              "      <td>7000000</td>\n",
              "      <td>NaN</td>\n",
              "      <td>NaN</td>\n",
              "      <td>2008fail</td>\n",
              "      <td>7575794</td>\n",
              "      <td>NaN</td>\n",
              "      <td>NaN</td>\n",
              "      <td>2.0</td>\n",
              "      <td>2.0</td>\n",
              "    </tr>\n",
              "    <tr>\n",
              "      <th>650</th>\n",
              "      <td>2008</td>\n",
              "      <td>tt0882978</td>\n",
              "      <td>three kingdoms: resurrection of the dragon</td>\n",
              "      <td>notalk</td>\n",
              "      <td>notalk</td>\n",
              "      <td>fail</td>\n",
              "      <td>20000000</td>\n",
              "      <td>NaN</td>\n",
              "      <td>22139590.0</td>\n",
              "      <td>2008fail</td>\n",
              "      <td>21645126</td>\n",
              "      <td>NaN</td>\n",
              "      <td>23960711.0</td>\n",
              "      <td>2.0</td>\n",
              "      <td>2.0</td>\n",
              "    </tr>\n",
              "    <tr>\n",
              "      <th>663</th>\n",
              "      <td>2007</td>\n",
              "      <td>tt1038988</td>\n",
              "      <td>[rec]</td>\n",
              "      <td>ok</td>\n",
              "      <td>ok</td>\n",
              "      <td>pass</td>\n",
              "      <td>2100000</td>\n",
              "      <td>NaN</td>\n",
              "      <td>27117954.0</td>\n",
              "      <td>2007pass</td>\n",
              "      <td>2359441</td>\n",
              "      <td>NaN</td>\n",
              "      <td>30468201.0</td>\n",
              "      <td>2.0</td>\n",
              "      <td>2.0</td>\n",
              "    </tr>\n",
              "    <tr>\n",
              "      <th>721</th>\n",
              "      <td>2007</td>\n",
              "      <td>tt0756683</td>\n",
              "      <td>the man from earth</td>\n",
              "      <td>notalk</td>\n",
              "      <td>notalk</td>\n",
              "      <td>fail</td>\n",
              "      <td>200000</td>\n",
              "      <td>NaN</td>\n",
              "      <td>NaN</td>\n",
              "      <td>2007fail</td>\n",
              "      <td>224709</td>\n",
              "      <td>NaN</td>\n",
              "      <td>NaN</td>\n",
              "      <td>2.0</td>\n",
              "      <td>2.0</td>\n",
              "    </tr>\n",
              "    <tr>\n",
              "      <th>735</th>\n",
              "      <td>2007</td>\n",
              "      <td>tt0496436</td>\n",
              "      <td>white noise 2: the light</td>\n",
              "      <td>notalk</td>\n",
              "      <td>notalk</td>\n",
              "      <td>fail</td>\n",
              "      <td>10000000</td>\n",
              "      <td>NaN</td>\n",
              "      <td>8243567.0</td>\n",
              "      <td>2007fail</td>\n",
              "      <td>11235435</td>\n",
              "      <td>NaN</td>\n",
              "      <td>9262006.0</td>\n",
              "      <td>2.0</td>\n",
              "      <td>2.0</td>\n",
              "    </tr>\n",
              "    <tr>\n",
              "      <th>740</th>\n",
              "      <td>2006</td>\n",
              "      <td>tt0416496</td>\n",
              "      <td>bandidas</td>\n",
              "      <td>ok</td>\n",
              "      <td>ok</td>\n",
              "      <td>pass</td>\n",
              "      <td>35000000</td>\n",
              "      <td>NaN</td>\n",
              "      <td>18400000.0</td>\n",
              "      <td>2006pass</td>\n",
              "      <td>40452872</td>\n",
              "      <td>NaN</td>\n",
              "      <td>21266653.0</td>\n",
              "      <td>2.0</td>\n",
              "      <td>2.0</td>\n",
              "    </tr>\n",
              "    <tr>\n",
              "      <th>769</th>\n",
              "      <td>2006</td>\n",
              "      <td>tt0490166</td>\n",
              "      <td>london to brighton</td>\n",
              "      <td>ok</td>\n",
              "      <td>ok</td>\n",
              "      <td>pass</td>\n",
              "      <td>825000</td>\n",
              "      <td>NaN</td>\n",
              "      <td>610776.0</td>\n",
              "      <td>2006pass</td>\n",
              "      <td>953532</td>\n",
              "      <td>NaN</td>\n",
              "      <td>705933.0</td>\n",
              "      <td>2.0</td>\n",
              "      <td>2.0</td>\n",
              "    </tr>\n",
              "    <tr>\n",
              "      <th>1675</th>\n",
              "      <td>1985</td>\n",
              "      <td>tt0088993</td>\n",
              "      <td>day of the dead</td>\n",
              "      <td>nowomen</td>\n",
              "      <td>nowomen</td>\n",
              "      <td>fail</td>\n",
              "      <td>18000000</td>\n",
              "      <td>NaN</td>\n",
              "      <td>NaN</td>\n",
              "      <td>1985fail</td>\n",
              "      <td>38971004</td>\n",
              "      <td>NaN</td>\n",
              "      <td>NaN</td>\n",
              "      <td>6.0</td>\n",
              "      <td>4.0</td>\n",
              "    </tr>\n",
              "    <tr>\n",
              "      <th>1678</th>\n",
              "      <td>1985</td>\n",
              "      <td>tt0091578</td>\n",
              "      <td>my beautiful laundrette</td>\n",
              "      <td>men</td>\n",
              "      <td>men</td>\n",
              "      <td>fail</td>\n",
              "      <td>400000</td>\n",
              "      <td>NaN</td>\n",
              "      <td>NaN</td>\n",
              "      <td>1985fail</td>\n",
              "      <td>866022</td>\n",
              "      <td>NaN</td>\n",
              "      <td>NaN</td>\n",
              "      <td>6.0</td>\n",
              "      <td>4.0</td>\n",
              "    </tr>\n",
              "    <tr>\n",
              "      <th>1785</th>\n",
              "      <td>1972</td>\n",
              "      <td>tt0068156</td>\n",
              "      <td>1776</td>\n",
              "      <td>notalk</td>\n",
              "      <td>notalk</td>\n",
              "      <td>fail</td>\n",
              "      <td>4000000</td>\n",
              "      <td>NaN</td>\n",
              "      <td>NaN</td>\n",
              "      <td>1972fail</td>\n",
              "      <td>22288557</td>\n",
              "      <td>NaN</td>\n",
              "      <td>NaN</td>\n",
              "      <td>9.0</td>\n",
              "      <td>5.0</td>\n",
              "    </tr>\n",
              "  </tbody>\n",
              "</table>\n",
              "</div>\n",
              "    <div class=\"colab-df-buttons\">\n",
              "\n",
              "  <div class=\"colab-df-container\">\n",
              "    <button class=\"colab-df-convert\" onclick=\"convertToInteractive('df-acde0a05-7219-4533-a143-9e446b839a29')\"\n",
              "            title=\"Convert this dataframe to an interactive table.\"\n",
              "            style=\"display:none;\">\n",
              "\n",
              "  <svg xmlns=\"http://www.w3.org/2000/svg\" height=\"24px\" viewBox=\"0 -960 960 960\">\n",
              "    <path d=\"M120-120v-720h720v720H120Zm60-500h600v-160H180v160Zm220 220h160v-160H400v160Zm0 220h160v-160H400v160ZM180-400h160v-160H180v160Zm440 0h160v-160H620v160ZM180-180h160v-160H180v160Zm440 0h160v-160H620v160Z\"/>\n",
              "  </svg>\n",
              "    </button>\n",
              "\n",
              "  <style>\n",
              "    .colab-df-container {\n",
              "      display:flex;\n",
              "      gap: 12px;\n",
              "    }\n",
              "\n",
              "    .colab-df-convert {\n",
              "      background-color: #E8F0FE;\n",
              "      border: none;\n",
              "      border-radius: 50%;\n",
              "      cursor: pointer;\n",
              "      display: none;\n",
              "      fill: #1967D2;\n",
              "      height: 32px;\n",
              "      padding: 0 0 0 0;\n",
              "      width: 32px;\n",
              "    }\n",
              "\n",
              "    .colab-df-convert:hover {\n",
              "      background-color: #E2EBFA;\n",
              "      box-shadow: 0px 1px 2px rgba(60, 64, 67, 0.3), 0px 1px 3px 1px rgba(60, 64, 67, 0.15);\n",
              "      fill: #174EA6;\n",
              "    }\n",
              "\n",
              "    .colab-df-buttons div {\n",
              "      margin-bottom: 4px;\n",
              "    }\n",
              "\n",
              "    [theme=dark] .colab-df-convert {\n",
              "      background-color: #3B4455;\n",
              "      fill: #D2E3FC;\n",
              "    }\n",
              "\n",
              "    [theme=dark] .colab-df-convert:hover {\n",
              "      background-color: #434B5C;\n",
              "      box-shadow: 0px 1px 3px 1px rgba(0, 0, 0, 0.15);\n",
              "      filter: drop-shadow(0px 1px 2px rgba(0, 0, 0, 0.3));\n",
              "      fill: #FFFFFF;\n",
              "    }\n",
              "  </style>\n",
              "\n",
              "    <script>\n",
              "      const buttonEl =\n",
              "        document.querySelector('#df-acde0a05-7219-4533-a143-9e446b839a29 button.colab-df-convert');\n",
              "      buttonEl.style.display =\n",
              "        google.colab.kernel.accessAllowed ? 'block' : 'none';\n",
              "\n",
              "      async function convertToInteractive(key) {\n",
              "        const element = document.querySelector('#df-acde0a05-7219-4533-a143-9e446b839a29');\n",
              "        const dataTable =\n",
              "          await google.colab.kernel.invokeFunction('convertToInteractive',\n",
              "                                                    [key], {});\n",
              "        if (!dataTable) return;\n",
              "\n",
              "        const docLinkHtml = 'Like what you see? Visit the ' +\n",
              "          '<a target=\"_blank\" href=https://colab.research.google.com/notebooks/data_table.ipynb>data table notebook</a>'\n",
              "          + ' to learn more about interactive tables.';\n",
              "        element.innerHTML = '';\n",
              "        dataTable['output_type'] = 'display_data';\n",
              "        await google.colab.output.renderOutput(dataTable, element);\n",
              "        const docLink = document.createElement('div');\n",
              "        docLink.innerHTML = docLinkHtml;\n",
              "        element.appendChild(docLink);\n",
              "      }\n",
              "    </script>\n",
              "  </div>\n",
              "\n",
              "\n",
              "<div id=\"df-713fc54c-24e3-43b5-9312-6a21a1329c07\">\n",
              "  <button class=\"colab-df-quickchart\" onclick=\"quickchart('df-713fc54c-24e3-43b5-9312-6a21a1329c07')\"\n",
              "            title=\"Suggest charts\"\n",
              "            style=\"display:none;\">\n",
              "\n",
              "<svg xmlns=\"http://www.w3.org/2000/svg\" height=\"24px\"viewBox=\"0 0 24 24\"\n",
              "     width=\"24px\">\n",
              "    <g>\n",
              "        <path d=\"M19 3H5c-1.1 0-2 .9-2 2v14c0 1.1.9 2 2 2h14c1.1 0 2-.9 2-2V5c0-1.1-.9-2-2-2zM9 17H7v-7h2v7zm4 0h-2V7h2v10zm4 0h-2v-4h2v4z\"/>\n",
              "    </g>\n",
              "</svg>\n",
              "  </button>\n",
              "\n",
              "<style>\n",
              "  .colab-df-quickchart {\n",
              "      --bg-color: #E8F0FE;\n",
              "      --fill-color: #1967D2;\n",
              "      --hover-bg-color: #E2EBFA;\n",
              "      --hover-fill-color: #174EA6;\n",
              "      --disabled-fill-color: #AAA;\n",
              "      --disabled-bg-color: #DDD;\n",
              "  }\n",
              "\n",
              "  [theme=dark] .colab-df-quickchart {\n",
              "      --bg-color: #3B4455;\n",
              "      --fill-color: #D2E3FC;\n",
              "      --hover-bg-color: #434B5C;\n",
              "      --hover-fill-color: #FFFFFF;\n",
              "      --disabled-bg-color: #3B4455;\n",
              "      --disabled-fill-color: #666;\n",
              "  }\n",
              "\n",
              "  .colab-df-quickchart {\n",
              "    background-color: var(--bg-color);\n",
              "    border: none;\n",
              "    border-radius: 50%;\n",
              "    cursor: pointer;\n",
              "    display: none;\n",
              "    fill: var(--fill-color);\n",
              "    height: 32px;\n",
              "    padding: 0;\n",
              "    width: 32px;\n",
              "  }\n",
              "\n",
              "  .colab-df-quickchart:hover {\n",
              "    background-color: var(--hover-bg-color);\n",
              "    box-shadow: 0 1px 2px rgba(60, 64, 67, 0.3), 0 1px 3px 1px rgba(60, 64, 67, 0.15);\n",
              "    fill: var(--button-hover-fill-color);\n",
              "  }\n",
              "\n",
              "  .colab-df-quickchart-complete:disabled,\n",
              "  .colab-df-quickchart-complete:disabled:hover {\n",
              "    background-color: var(--disabled-bg-color);\n",
              "    fill: var(--disabled-fill-color);\n",
              "    box-shadow: none;\n",
              "  }\n",
              "\n",
              "  .colab-df-spinner {\n",
              "    border: 2px solid var(--fill-color);\n",
              "    border-color: transparent;\n",
              "    border-bottom-color: var(--fill-color);\n",
              "    animation:\n",
              "      spin 1s steps(1) infinite;\n",
              "  }\n",
              "\n",
              "  @keyframes spin {\n",
              "    0% {\n",
              "      border-color: transparent;\n",
              "      border-bottom-color: var(--fill-color);\n",
              "      border-left-color: var(--fill-color);\n",
              "    }\n",
              "    20% {\n",
              "      border-color: transparent;\n",
              "      border-left-color: var(--fill-color);\n",
              "      border-top-color: var(--fill-color);\n",
              "    }\n",
              "    30% {\n",
              "      border-color: transparent;\n",
              "      border-left-color: var(--fill-color);\n",
              "      border-top-color: var(--fill-color);\n",
              "      border-right-color: var(--fill-color);\n",
              "    }\n",
              "    40% {\n",
              "      border-color: transparent;\n",
              "      border-right-color: var(--fill-color);\n",
              "      border-top-color: var(--fill-color);\n",
              "    }\n",
              "    60% {\n",
              "      border-color: transparent;\n",
              "      border-right-color: var(--fill-color);\n",
              "    }\n",
              "    80% {\n",
              "      border-color: transparent;\n",
              "      border-right-color: var(--fill-color);\n",
              "      border-bottom-color: var(--fill-color);\n",
              "    }\n",
              "    90% {\n",
              "      border-color: transparent;\n",
              "      border-bottom-color: var(--fill-color);\n",
              "    }\n",
              "  }\n",
              "</style>\n",
              "\n",
              "  <script>\n",
              "    async function quickchart(key) {\n",
              "      const quickchartButtonEl =\n",
              "        document.querySelector('#' + key + ' button');\n",
              "      quickchartButtonEl.disabled = true;  // To prevent multiple clicks.\n",
              "      quickchartButtonEl.classList.add('colab-df-spinner');\n",
              "      try {\n",
              "        const charts = await google.colab.kernel.invokeFunction(\n",
              "            'suggestCharts', [key], {});\n",
              "      } catch (error) {\n",
              "        console.error('Error during call to suggestCharts:', error);\n",
              "      }\n",
              "      quickchartButtonEl.classList.remove('colab-df-spinner');\n",
              "      quickchartButtonEl.classList.add('colab-df-quickchart-complete');\n",
              "    }\n",
              "    (() => {\n",
              "      let quickchartButtonEl =\n",
              "        document.querySelector('#df-713fc54c-24e3-43b5-9312-6a21a1329c07 button');\n",
              "      quickchartButtonEl.style.display =\n",
              "        google.colab.kernel.accessAllowed ? 'block' : 'none';\n",
              "    })();\n",
              "  </script>\n",
              "</div>\n",
              "\n",
              "  <div id=\"id_0b2496a9-c1c6-42f3-85a2-cecaa7551f0a\">\n",
              "    <style>\n",
              "      .colab-df-generate {\n",
              "        background-color: #E8F0FE;\n",
              "        border: none;\n",
              "        border-radius: 50%;\n",
              "        cursor: pointer;\n",
              "        display: none;\n",
              "        fill: #1967D2;\n",
              "        height: 32px;\n",
              "        padding: 0 0 0 0;\n",
              "        width: 32px;\n",
              "      }\n",
              "\n",
              "      .colab-df-generate:hover {\n",
              "        background-color: #E2EBFA;\n",
              "        box-shadow: 0px 1px 2px rgba(60, 64, 67, 0.3), 0px 1px 3px 1px rgba(60, 64, 67, 0.15);\n",
              "        fill: #174EA6;\n",
              "      }\n",
              "\n",
              "      [theme=dark] .colab-df-generate {\n",
              "        background-color: #3B4455;\n",
              "        fill: #D2E3FC;\n",
              "      }\n",
              "\n",
              "      [theme=dark] .colab-df-generate:hover {\n",
              "        background-color: #434B5C;\n",
              "        box-shadow: 0px 1px 3px 1px rgba(0, 0, 0, 0.15);\n",
              "        filter: drop-shadow(0px 1px 2px rgba(0, 0, 0, 0.3));\n",
              "        fill: #FFFFFF;\n",
              "      }\n",
              "    </style>\n",
              "    <button class=\"colab-df-generate\" onclick=\"generateWithVariable('missing')\"\n",
              "            title=\"Generate code using this dataframe.\"\n",
              "            style=\"display:none;\">\n",
              "\n",
              "  <svg xmlns=\"http://www.w3.org/2000/svg\" height=\"24px\"viewBox=\"0 0 24 24\"\n",
              "       width=\"24px\">\n",
              "    <path d=\"M7,19H8.4L18.45,9,17,7.55,7,17.6ZM5,21V16.75L18.45,3.32a2,2,0,0,1,2.83,0l1.4,1.43a1.91,1.91,0,0,1,.58,1.4,1.91,1.91,0,0,1-.58,1.4L9.25,21ZM18.45,9,17,7.55Zm-12,3A5.31,5.31,0,0,0,4.9,8.1,5.31,5.31,0,0,0,1,6.5,5.31,5.31,0,0,0,4.9,4.9,5.31,5.31,0,0,0,6.5,1,5.31,5.31,0,0,0,8.1,4.9,5.31,5.31,0,0,0,12,6.5,5.46,5.46,0,0,0,6.5,12Z\"/>\n",
              "  </svg>\n",
              "    </button>\n",
              "    <script>\n",
              "      (() => {\n",
              "      const buttonEl =\n",
              "        document.querySelector('#id_0b2496a9-c1c6-42f3-85a2-cecaa7551f0a button.colab-df-generate');\n",
              "      buttonEl.style.display =\n",
              "        google.colab.kernel.accessAllowed ? 'block' : 'none';\n",
              "\n",
              "      buttonEl.onclick = () => {\n",
              "        google.colab.notebook.generateWithVariable('missing');\n",
              "      }\n",
              "      })();\n",
              "    </script>\n",
              "  </div>\n",
              "\n",
              "    </div>\n",
              "  </div>\n"
            ],
            "application/vnd.google.colaboratory.intrinsic+json": {
              "type": "dataframe",
              "variable_name": "missing",
              "repr_error": "0"
            }
          },
          "metadata": {},
          "execution_count": 88
        }
      ],
      "source": [
        "missing = data[data['domgross_2013$'].isna()]\n",
        "missing"
      ]
    },
    {
      "cell_type": "markdown",
      "metadata": {
        "id": "bVu84D5QSDWZ"
      },
      "source": [
        "we here found that there are common missing values between columns which depends on each other so we are gonna drop them"
      ]
    },
    {
      "cell_type": "code",
      "execution_count": 89,
      "metadata": {
        "id": "WvwgzGvRP_zo"
      },
      "outputs": [],
      "source": [
        "data.dropna(inplace = True)"
      ]
    },
    {
      "cell_type": "code",
      "execution_count": 90,
      "metadata": {
        "colab": {
          "base_uri": "https://localhost:8080/"
        },
        "id": "BS7_IIbSSbm_",
        "outputId": "bf719d18-e339-4cb8-e8fa-81c2473d5a63"
      },
      "outputs": [
        {
          "output_type": "execute_result",
          "data": {
            "text/plain": [
              "year              0\n",
              "imdb              0\n",
              "title             0\n",
              "test              0\n",
              "clean_test        0\n",
              "binary            0\n",
              "budget            0\n",
              "domgross          0\n",
              "intgross          0\n",
              "code              0\n",
              "budget_2013$      0\n",
              "domgross_2013$    0\n",
              "intgross_2013$    0\n",
              "period code       0\n",
              "decade code       0\n",
              "dtype: int64"
            ]
          },
          "metadata": {},
          "execution_count": 90
        }
      ],
      "source": [
        "data.isna().sum()"
      ]
    },
    {
      "cell_type": "code",
      "execution_count": 91,
      "metadata": {
        "id": "RpLobhPhVsti"
      },
      "outputs": [],
      "source": [
        "import numpy as np\n",
        "import matplotlib.pyplot as plt"
      ]
    },
    {
      "cell_type": "code",
      "execution_count": 92,
      "metadata": {
        "colab": {
          "base_uri": "https://localhost:8080/"
        },
        "id": "A184mLhTSey2",
        "outputId": "66190e00-04b0-425f-8111-72fb82245205"
      },
      "outputs": [
        {
          "output_type": "execute_result",
          "data": {
            "text/plain": [
              "dtype('O')"
            ]
          },
          "metadata": {},
          "execution_count": 92
        }
      ],
      "source": [
        "data['budget'].dtype"
      ]
    },
    {
      "cell_type": "markdown",
      "metadata": {
        "id": "uHVPUb3uWnR6"
      },
      "source": [
        "here we found that here are some outliers in some columns"
      ]
    },
    {
      "cell_type": "code",
      "execution_count": 93,
      "metadata": {
        "id": "YGXNtiBLZiAq"
      },
      "outputs": [],
      "source": [
        "data['budget'] = pd.to_numeric(data['budget'],errors='coerce')"
      ]
    },
    {
      "cell_type": "code",
      "execution_count": 94,
      "metadata": {
        "colab": {
          "base_uri": "https://localhost:8080/"
        },
        "id": "4kUKHG_RZ7BP",
        "outputId": "9c77acb3-4e6e-404b-c184-060e497383c9"
      },
      "outputs": [
        {
          "output_type": "execute_result",
          "data": {
            "text/plain": [
              "20"
            ]
          },
          "metadata": {},
          "execution_count": 94
        }
      ],
      "source": [
        "data['budget'].isna().sum()"
      ]
    },
    {
      "cell_type": "code",
      "execution_count": 95,
      "metadata": {
        "id": "PPu-I9Z5c-fe"
      },
      "outputs": [],
      "source": [
        "data.dropna(inplace = True)"
      ]
    },
    {
      "cell_type": "code",
      "source": [
        "data['budget'].isna().sum()"
      ],
      "metadata": {
        "colab": {
          "base_uri": "https://localhost:8080/"
        },
        "id": "2eXhOHb47D24",
        "outputId": "b6d948b6-e346-43ce-ad89-9147e7a0bb5d"
      },
      "execution_count": 96,
      "outputs": [
        {
          "output_type": "execute_result",
          "data": {
            "text/plain": [
              "0"
            ]
          },
          "metadata": {},
          "execution_count": 96
        }
      ]
    },
    {
      "cell_type": "code",
      "execution_count": 97,
      "metadata": {
        "id": "CLs3XsKrdRoT"
      },
      "outputs": [],
      "source": [
        "data['budget_2013$'] = pd.to_numeric(data['budget_2013$'],errors='coerce')"
      ]
    },
    {
      "cell_type": "code",
      "execution_count": 98,
      "metadata": {
        "colab": {
          "base_uri": "https://localhost:8080/"
        },
        "id": "DdhgR_oWdsmt",
        "outputId": "e442bb33-ecff-46c1-f362-091247eeb7b3"
      },
      "outputs": [
        {
          "output_type": "execute_result",
          "data": {
            "text/plain": [
              "0"
            ]
          },
          "metadata": {},
          "execution_count": 98
        }
      ],
      "source": [
        "data['budget_2013$'].isna().sum()"
      ]
    },
    {
      "cell_type": "code",
      "execution_count": 99,
      "metadata": {
        "colab": {
          "base_uri": "https://localhost:8080/",
          "height": 300
        },
        "id": "DZayCd7GdzUg",
        "outputId": "8f32be9d-817b-4517-c6dd-692c97eb85c7"
      },
      "outputs": [
        {
          "output_type": "execute_result",
          "data": {
            "text/plain": [
              "              year        budget      intgross  budget_2013$  intgross_2013$  \\\n",
              "count  1756.000000  1.756000e+03  1.756000e+03  1.756000e+03    1.756000e+03   \n",
              "mean   2002.538155  4.524015e+07  1.509249e+08  5.597615e+07    1.986303e+08   \n",
              "std       8.986043  4.833409e+07  2.108096e+08  5.502529e+07    2.843583e+08   \n",
              "min    1970.000000  7.000000e+03  8.280000e+02  8.632000e+03    8.990000e+02   \n",
              "25%    1998.000000  1.200000e+07  2.617866e+07  1.623422e+07    3.356403e+07   \n",
              "50%    2005.000000  3.000000e+07  7.736156e+07  3.738811e+07    9.678872e+07   \n",
              "75%    2009.000000  6.000000e+07  1.906000e+08  7.986357e+07    2.419660e+08   \n",
              "max    2013.000000  4.250000e+08  2.783919e+09  4.614359e+08    3.171931e+09   \n",
              "\n",
              "       period code  decade code  \n",
              "count  1756.000000  1756.000000  \n",
              "mean      2.884396     2.172551  \n",
              "std       1.821294     0.977443  \n",
              "min       1.000000     1.000000  \n",
              "25%       2.000000     2.000000  \n",
              "50%       2.000000     2.000000  \n",
              "75%       4.000000     3.000000  \n",
              "max       9.000000     5.000000  "
            ],
            "text/html": [
              "\n",
              "  <div id=\"df-2aa433b1-baf7-4881-a9fc-127bf2f0d28e\" class=\"colab-df-container\">\n",
              "    <div>\n",
              "<style scoped>\n",
              "    .dataframe tbody tr th:only-of-type {\n",
              "        vertical-align: middle;\n",
              "    }\n",
              "\n",
              "    .dataframe tbody tr th {\n",
              "        vertical-align: top;\n",
              "    }\n",
              "\n",
              "    .dataframe thead th {\n",
              "        text-align: right;\n",
              "    }\n",
              "</style>\n",
              "<table border=\"1\" class=\"dataframe\">\n",
              "  <thead>\n",
              "    <tr style=\"text-align: right;\">\n",
              "      <th></th>\n",
              "      <th>year</th>\n",
              "      <th>budget</th>\n",
              "      <th>intgross</th>\n",
              "      <th>budget_2013$</th>\n",
              "      <th>intgross_2013$</th>\n",
              "      <th>period code</th>\n",
              "      <th>decade code</th>\n",
              "    </tr>\n",
              "  </thead>\n",
              "  <tbody>\n",
              "    <tr>\n",
              "      <th>count</th>\n",
              "      <td>1756.000000</td>\n",
              "      <td>1.756000e+03</td>\n",
              "      <td>1.756000e+03</td>\n",
              "      <td>1.756000e+03</td>\n",
              "      <td>1.756000e+03</td>\n",
              "      <td>1756.000000</td>\n",
              "      <td>1756.000000</td>\n",
              "    </tr>\n",
              "    <tr>\n",
              "      <th>mean</th>\n",
              "      <td>2002.538155</td>\n",
              "      <td>4.524015e+07</td>\n",
              "      <td>1.509249e+08</td>\n",
              "      <td>5.597615e+07</td>\n",
              "      <td>1.986303e+08</td>\n",
              "      <td>2.884396</td>\n",
              "      <td>2.172551</td>\n",
              "    </tr>\n",
              "    <tr>\n",
              "      <th>std</th>\n",
              "      <td>8.986043</td>\n",
              "      <td>4.833409e+07</td>\n",
              "      <td>2.108096e+08</td>\n",
              "      <td>5.502529e+07</td>\n",
              "      <td>2.843583e+08</td>\n",
              "      <td>1.821294</td>\n",
              "      <td>0.977443</td>\n",
              "    </tr>\n",
              "    <tr>\n",
              "      <th>min</th>\n",
              "      <td>1970.000000</td>\n",
              "      <td>7.000000e+03</td>\n",
              "      <td>8.280000e+02</td>\n",
              "      <td>8.632000e+03</td>\n",
              "      <td>8.990000e+02</td>\n",
              "      <td>1.000000</td>\n",
              "      <td>1.000000</td>\n",
              "    </tr>\n",
              "    <tr>\n",
              "      <th>25%</th>\n",
              "      <td>1998.000000</td>\n",
              "      <td>1.200000e+07</td>\n",
              "      <td>2.617866e+07</td>\n",
              "      <td>1.623422e+07</td>\n",
              "      <td>3.356403e+07</td>\n",
              "      <td>2.000000</td>\n",
              "      <td>2.000000</td>\n",
              "    </tr>\n",
              "    <tr>\n",
              "      <th>50%</th>\n",
              "      <td>2005.000000</td>\n",
              "      <td>3.000000e+07</td>\n",
              "      <td>7.736156e+07</td>\n",
              "      <td>3.738811e+07</td>\n",
              "      <td>9.678872e+07</td>\n",
              "      <td>2.000000</td>\n",
              "      <td>2.000000</td>\n",
              "    </tr>\n",
              "    <tr>\n",
              "      <th>75%</th>\n",
              "      <td>2009.000000</td>\n",
              "      <td>6.000000e+07</td>\n",
              "      <td>1.906000e+08</td>\n",
              "      <td>7.986357e+07</td>\n",
              "      <td>2.419660e+08</td>\n",
              "      <td>4.000000</td>\n",
              "      <td>3.000000</td>\n",
              "    </tr>\n",
              "    <tr>\n",
              "      <th>max</th>\n",
              "      <td>2013.000000</td>\n",
              "      <td>4.250000e+08</td>\n",
              "      <td>2.783919e+09</td>\n",
              "      <td>4.614359e+08</td>\n",
              "      <td>3.171931e+09</td>\n",
              "      <td>9.000000</td>\n",
              "      <td>5.000000</td>\n",
              "    </tr>\n",
              "  </tbody>\n",
              "</table>\n",
              "</div>\n",
              "    <div class=\"colab-df-buttons\">\n",
              "\n",
              "  <div class=\"colab-df-container\">\n",
              "    <button class=\"colab-df-convert\" onclick=\"convertToInteractive('df-2aa433b1-baf7-4881-a9fc-127bf2f0d28e')\"\n",
              "            title=\"Convert this dataframe to an interactive table.\"\n",
              "            style=\"display:none;\">\n",
              "\n",
              "  <svg xmlns=\"http://www.w3.org/2000/svg\" height=\"24px\" viewBox=\"0 -960 960 960\">\n",
              "    <path d=\"M120-120v-720h720v720H120Zm60-500h600v-160H180v160Zm220 220h160v-160H400v160Zm0 220h160v-160H400v160ZM180-400h160v-160H180v160Zm440 0h160v-160H620v160ZM180-180h160v-160H180v160Zm440 0h160v-160H620v160Z\"/>\n",
              "  </svg>\n",
              "    </button>\n",
              "\n",
              "  <style>\n",
              "    .colab-df-container {\n",
              "      display:flex;\n",
              "      gap: 12px;\n",
              "    }\n",
              "\n",
              "    .colab-df-convert {\n",
              "      background-color: #E8F0FE;\n",
              "      border: none;\n",
              "      border-radius: 50%;\n",
              "      cursor: pointer;\n",
              "      display: none;\n",
              "      fill: #1967D2;\n",
              "      height: 32px;\n",
              "      padding: 0 0 0 0;\n",
              "      width: 32px;\n",
              "    }\n",
              "\n",
              "    .colab-df-convert:hover {\n",
              "      background-color: #E2EBFA;\n",
              "      box-shadow: 0px 1px 2px rgba(60, 64, 67, 0.3), 0px 1px 3px 1px rgba(60, 64, 67, 0.15);\n",
              "      fill: #174EA6;\n",
              "    }\n",
              "\n",
              "    .colab-df-buttons div {\n",
              "      margin-bottom: 4px;\n",
              "    }\n",
              "\n",
              "    [theme=dark] .colab-df-convert {\n",
              "      background-color: #3B4455;\n",
              "      fill: #D2E3FC;\n",
              "    }\n",
              "\n",
              "    [theme=dark] .colab-df-convert:hover {\n",
              "      background-color: #434B5C;\n",
              "      box-shadow: 0px 1px 3px 1px rgba(0, 0, 0, 0.15);\n",
              "      filter: drop-shadow(0px 1px 2px rgba(0, 0, 0, 0.3));\n",
              "      fill: #FFFFFF;\n",
              "    }\n",
              "  </style>\n",
              "\n",
              "    <script>\n",
              "      const buttonEl =\n",
              "        document.querySelector('#df-2aa433b1-baf7-4881-a9fc-127bf2f0d28e button.colab-df-convert');\n",
              "      buttonEl.style.display =\n",
              "        google.colab.kernel.accessAllowed ? 'block' : 'none';\n",
              "\n",
              "      async function convertToInteractive(key) {\n",
              "        const element = document.querySelector('#df-2aa433b1-baf7-4881-a9fc-127bf2f0d28e');\n",
              "        const dataTable =\n",
              "          await google.colab.kernel.invokeFunction('convertToInteractive',\n",
              "                                                    [key], {});\n",
              "        if (!dataTable) return;\n",
              "\n",
              "        const docLinkHtml = 'Like what you see? Visit the ' +\n",
              "          '<a target=\"_blank\" href=https://colab.research.google.com/notebooks/data_table.ipynb>data table notebook</a>'\n",
              "          + ' to learn more about interactive tables.';\n",
              "        element.innerHTML = '';\n",
              "        dataTable['output_type'] = 'display_data';\n",
              "        await google.colab.output.renderOutput(dataTable, element);\n",
              "        const docLink = document.createElement('div');\n",
              "        docLink.innerHTML = docLinkHtml;\n",
              "        element.appendChild(docLink);\n",
              "      }\n",
              "    </script>\n",
              "  </div>\n",
              "\n",
              "\n",
              "<div id=\"df-55b52c4c-62ec-4f2a-838b-a60cea1241ff\">\n",
              "  <button class=\"colab-df-quickchart\" onclick=\"quickchart('df-55b52c4c-62ec-4f2a-838b-a60cea1241ff')\"\n",
              "            title=\"Suggest charts\"\n",
              "            style=\"display:none;\">\n",
              "\n",
              "<svg xmlns=\"http://www.w3.org/2000/svg\" height=\"24px\"viewBox=\"0 0 24 24\"\n",
              "     width=\"24px\">\n",
              "    <g>\n",
              "        <path d=\"M19 3H5c-1.1 0-2 .9-2 2v14c0 1.1.9 2 2 2h14c1.1 0 2-.9 2-2V5c0-1.1-.9-2-2-2zM9 17H7v-7h2v7zm4 0h-2V7h2v10zm4 0h-2v-4h2v4z\"/>\n",
              "    </g>\n",
              "</svg>\n",
              "  </button>\n",
              "\n",
              "<style>\n",
              "  .colab-df-quickchart {\n",
              "      --bg-color: #E8F0FE;\n",
              "      --fill-color: #1967D2;\n",
              "      --hover-bg-color: #E2EBFA;\n",
              "      --hover-fill-color: #174EA6;\n",
              "      --disabled-fill-color: #AAA;\n",
              "      --disabled-bg-color: #DDD;\n",
              "  }\n",
              "\n",
              "  [theme=dark] .colab-df-quickchart {\n",
              "      --bg-color: #3B4455;\n",
              "      --fill-color: #D2E3FC;\n",
              "      --hover-bg-color: #434B5C;\n",
              "      --hover-fill-color: #FFFFFF;\n",
              "      --disabled-bg-color: #3B4455;\n",
              "      --disabled-fill-color: #666;\n",
              "  }\n",
              "\n",
              "  .colab-df-quickchart {\n",
              "    background-color: var(--bg-color);\n",
              "    border: none;\n",
              "    border-radius: 50%;\n",
              "    cursor: pointer;\n",
              "    display: none;\n",
              "    fill: var(--fill-color);\n",
              "    height: 32px;\n",
              "    padding: 0;\n",
              "    width: 32px;\n",
              "  }\n",
              "\n",
              "  .colab-df-quickchart:hover {\n",
              "    background-color: var(--hover-bg-color);\n",
              "    box-shadow: 0 1px 2px rgba(60, 64, 67, 0.3), 0 1px 3px 1px rgba(60, 64, 67, 0.15);\n",
              "    fill: var(--button-hover-fill-color);\n",
              "  }\n",
              "\n",
              "  .colab-df-quickchart-complete:disabled,\n",
              "  .colab-df-quickchart-complete:disabled:hover {\n",
              "    background-color: var(--disabled-bg-color);\n",
              "    fill: var(--disabled-fill-color);\n",
              "    box-shadow: none;\n",
              "  }\n",
              "\n",
              "  .colab-df-spinner {\n",
              "    border: 2px solid var(--fill-color);\n",
              "    border-color: transparent;\n",
              "    border-bottom-color: var(--fill-color);\n",
              "    animation:\n",
              "      spin 1s steps(1) infinite;\n",
              "  }\n",
              "\n",
              "  @keyframes spin {\n",
              "    0% {\n",
              "      border-color: transparent;\n",
              "      border-bottom-color: var(--fill-color);\n",
              "      border-left-color: var(--fill-color);\n",
              "    }\n",
              "    20% {\n",
              "      border-color: transparent;\n",
              "      border-left-color: var(--fill-color);\n",
              "      border-top-color: var(--fill-color);\n",
              "    }\n",
              "    30% {\n",
              "      border-color: transparent;\n",
              "      border-left-color: var(--fill-color);\n",
              "      border-top-color: var(--fill-color);\n",
              "      border-right-color: var(--fill-color);\n",
              "    }\n",
              "    40% {\n",
              "      border-color: transparent;\n",
              "      border-right-color: var(--fill-color);\n",
              "      border-top-color: var(--fill-color);\n",
              "    }\n",
              "    60% {\n",
              "      border-color: transparent;\n",
              "      border-right-color: var(--fill-color);\n",
              "    }\n",
              "    80% {\n",
              "      border-color: transparent;\n",
              "      border-right-color: var(--fill-color);\n",
              "      border-bottom-color: var(--fill-color);\n",
              "    }\n",
              "    90% {\n",
              "      border-color: transparent;\n",
              "      border-bottom-color: var(--fill-color);\n",
              "    }\n",
              "  }\n",
              "</style>\n",
              "\n",
              "  <script>\n",
              "    async function quickchart(key) {\n",
              "      const quickchartButtonEl =\n",
              "        document.querySelector('#' + key + ' button');\n",
              "      quickchartButtonEl.disabled = true;  // To prevent multiple clicks.\n",
              "      quickchartButtonEl.classList.add('colab-df-spinner');\n",
              "      try {\n",
              "        const charts = await google.colab.kernel.invokeFunction(\n",
              "            'suggestCharts', [key], {});\n",
              "      } catch (error) {\n",
              "        console.error('Error during call to suggestCharts:', error);\n",
              "      }\n",
              "      quickchartButtonEl.classList.remove('colab-df-spinner');\n",
              "      quickchartButtonEl.classList.add('colab-df-quickchart-complete');\n",
              "    }\n",
              "    (() => {\n",
              "      let quickchartButtonEl =\n",
              "        document.querySelector('#df-55b52c4c-62ec-4f2a-838b-a60cea1241ff button');\n",
              "      quickchartButtonEl.style.display =\n",
              "        google.colab.kernel.accessAllowed ? 'block' : 'none';\n",
              "    })();\n",
              "  </script>\n",
              "</div>\n",
              "\n",
              "    </div>\n",
              "  </div>\n"
            ],
            "application/vnd.google.colaboratory.intrinsic+json": {
              "type": "dataframe",
              "summary": "{\n  \"name\": \"data\",\n  \"rows\": 8,\n  \"fields\": [\n    {\n      \"column\": \"year\",\n      \"properties\": {\n        \"dtype\": \"number\",\n        \"std\": 696.8368094681077,\n        \"min\": 8.986043107214154,\n        \"max\": 2013.0,\n        \"num_unique_values\": 8,\n        \"samples\": [\n          2002.5381548974942,\n          2005.0,\n          1756.0\n        ],\n        \"semantic_type\": \"\",\n        \"description\": \"\"\n      }\n    },\n    {\n      \"column\": \"budget\",\n      \"properties\": {\n        \"dtype\": \"number\",\n        \"std\": 142182703.77894053,\n        \"min\": 1756.0,\n        \"max\": 425000000.0,\n        \"num_unique_values\": 8,\n        \"samples\": [\n          45240147.45444191,\n          30000000.0,\n          1756.0\n        ],\n        \"semantic_type\": \"\",\n        \"description\": \"\"\n      }\n    },\n    {\n      \"column\": \"intgross\",\n      \"properties\": {\n        \"dtype\": \"number\",\n        \"std\": 954792242.1241207,\n        \"min\": 828.0,\n        \"max\": 2783918982.0,\n        \"num_unique_values\": 8,\n        \"samples\": [\n          150924902.9476082,\n          77361556.0,\n          1756.0\n        ],\n        \"semantic_type\": \"\",\n        \"description\": \"\"\n      }\n    },\n    {\n      \"column\": \"budget_2013$\",\n      \"properties\": {\n        \"dtype\": \"number\",\n        \"std\": 153451271.23004133,\n        \"min\": 1756.0,\n        \"max\": 461435929.0,\n        \"num_unique_values\": 8,\n        \"samples\": [\n          55976146.8712984,\n          37388114.0,\n          1756.0\n        ],\n        \"semantic_type\": \"\",\n        \"description\": \"\"\n      }\n    },\n    {\n      \"column\": \"intgross_2013$\",\n      \"properties\": {\n        \"dtype\": \"number\",\n        \"std\": 1083853450.8259993,\n        \"min\": 899.0,\n        \"max\": 3171930973.0,\n        \"num_unique_values\": 8,\n        \"samples\": [\n          198630269.46013668,\n          96788722.0,\n          1756.0\n        ],\n        \"semantic_type\": \"\",\n        \"description\": \"\"\n      }\n    },\n    {\n      \"column\": \"period code\",\n      \"properties\": {\n        \"dtype\": \"number\",\n        \"std\": 619.6980134548495,\n        \"min\": 1.0,\n        \"max\": 1756.0,\n        \"num_unique_values\": 7,\n        \"samples\": [\n          1756.0,\n          2.884396355353075,\n          4.0\n        ],\n        \"semantic_type\": \"\",\n        \"description\": \"\"\n      }\n    },\n    {\n      \"column\": \"decade code\",\n      \"properties\": {\n        \"dtype\": \"number\",\n        \"std\": 620.0253710509132,\n        \"min\": 0.9774427272842827,\n        \"max\": 1756.0,\n        \"num_unique_values\": 7,\n        \"samples\": [\n          1756.0,\n          2.1725512528473803,\n          3.0\n        ],\n        \"semantic_type\": \"\",\n        \"description\": \"\"\n      }\n    }\n  ]\n}"
            }
          },
          "metadata": {},
          "execution_count": 99
        }
      ],
      "source": [
        "data.describe()"
      ]
    },
    {
      "cell_type": "code",
      "execution_count": 100,
      "metadata": {
        "colab": {
          "base_uri": "https://localhost:8080/"
        },
        "id": "oZIPTkOYd6k2",
        "outputId": "ced97291-cd52-4cd8-ec97-a3c3a7e348c8"
      },
      "outputs": [
        {
          "output_type": "execute_result",
          "data": {
            "text/plain": [
              "0       0\n",
              "1       1\n",
              "2       0\n",
              "3       0\n",
              "4       0\n",
              "       ..\n",
              "1789    0\n",
              "1790    0\n",
              "1791    0\n",
              "1792    0\n",
              "1793    1\n",
              "Name: binary, Length: 1756, dtype: object"
            ]
          },
          "metadata": {},
          "execution_count": 100
        }
      ],
      "source": [
        "data.loc[data['binary'] == 'fail','binary'] = 0\n",
        "data.loc[data['binary']== 'pass','binary'] = 1\n",
        "data['binary']"
      ]
    },
    {
      "cell_type": "code",
      "execution_count": 101,
      "metadata": {
        "colab": {
          "base_uri": "https://localhost:8080/"
        },
        "id": "OEr1i569iCha",
        "outputId": "0c42f0b6-243e-48f0-c481-a450ce2ed20d"
      },
      "outputs": [
        {
          "output_type": "execute_result",
          "data": {
            "text/plain": [
              "binary\n",
              "0    969\n",
              "1    787\n",
              "Name: count, dtype: int64"
            ]
          },
          "metadata": {},
          "execution_count": 101
        }
      ],
      "source": [
        "data['binary'].value_counts()"
      ]
    },
    {
      "cell_type": "code",
      "execution_count": 102,
      "metadata": {
        "id": "NWWXF7DLiIL4"
      },
      "outputs": [],
      "source": [
        "data['binary'] = pd.to_numeric(data['binary'],errors='coerce')"
      ]
    },
    {
      "cell_type": "code",
      "execution_count": 103,
      "metadata": {
        "colab": {
          "base_uri": "https://localhost:8080/"
        },
        "id": "_JxhpATPjPTK",
        "outputId": "55da24c2-36ee-45a9-eff6-18237bed901a"
      },
      "outputs": [
        {
          "output_type": "execute_result",
          "data": {
            "text/plain": [
              "0"
            ]
          },
          "metadata": {},
          "execution_count": 103
        }
      ],
      "source": [
        "data['binary'].isna().sum()"
      ]
    },
    {
      "cell_type": "code",
      "execution_count": 104,
      "metadata": {
        "id": "sxo44jVzjSR2"
      },
      "outputs": [],
      "source": [
        "data['binary'].dropna(inplace = True)"
      ]
    },
    {
      "cell_type": "code",
      "execution_count": 105,
      "metadata": {
        "colab": {
          "base_uri": "https://localhost:8080/"
        },
        "id": "kZtUluZ44Pf2",
        "outputId": "532e8dd0-2738-4ffe-ba4c-631a653ca3d2"
      },
      "outputs": [
        {
          "output_type": "execute_result",
          "data": {
            "text/plain": [
              "0"
            ]
          },
          "metadata": {},
          "execution_count": 105
        }
      ],
      "source": [
        "data['binary'].isna().sum()"
      ]
    },
    {
      "cell_type": "code",
      "execution_count": 106,
      "metadata": {
        "colab": {
          "base_uri": "https://localhost:8080/",
          "height": 300
        },
        "id": "tC_ASHffjaP8",
        "outputId": "80948e97-a1ea-4c5c-f151-7cdbcfd41f96"
      },
      "outputs": [
        {
          "output_type": "execute_result",
          "data": {
            "text/plain": [
              "              year       binary        budget      intgross  budget_2013$  \\\n",
              "count  1756.000000  1756.000000  1.756000e+03  1.756000e+03  1.756000e+03   \n",
              "mean   2002.538155     0.448178  4.524015e+07  1.509249e+08  5.597615e+07   \n",
              "std       8.986043     0.497449  4.833409e+07  2.108096e+08  5.502529e+07   \n",
              "min    1970.000000     0.000000  7.000000e+03  8.280000e+02  8.632000e+03   \n",
              "25%    1998.000000     0.000000  1.200000e+07  2.617866e+07  1.623422e+07   \n",
              "50%    2005.000000     0.000000  3.000000e+07  7.736156e+07  3.738811e+07   \n",
              "75%    2009.000000     1.000000  6.000000e+07  1.906000e+08  7.986357e+07   \n",
              "max    2013.000000     1.000000  4.250000e+08  2.783919e+09  4.614359e+08   \n",
              "\n",
              "       intgross_2013$  period code  decade code  \n",
              "count    1.756000e+03  1756.000000  1756.000000  \n",
              "mean     1.986303e+08     2.884396     2.172551  \n",
              "std      2.843583e+08     1.821294     0.977443  \n",
              "min      8.990000e+02     1.000000     1.000000  \n",
              "25%      3.356403e+07     2.000000     2.000000  \n",
              "50%      9.678872e+07     2.000000     2.000000  \n",
              "75%      2.419660e+08     4.000000     3.000000  \n",
              "max      3.171931e+09     9.000000     5.000000  "
            ],
            "text/html": [
              "\n",
              "  <div id=\"df-2e2e836b-6549-420f-b7fb-1f9cf3593e11\" class=\"colab-df-container\">\n",
              "    <div>\n",
              "<style scoped>\n",
              "    .dataframe tbody tr th:only-of-type {\n",
              "        vertical-align: middle;\n",
              "    }\n",
              "\n",
              "    .dataframe tbody tr th {\n",
              "        vertical-align: top;\n",
              "    }\n",
              "\n",
              "    .dataframe thead th {\n",
              "        text-align: right;\n",
              "    }\n",
              "</style>\n",
              "<table border=\"1\" class=\"dataframe\">\n",
              "  <thead>\n",
              "    <tr style=\"text-align: right;\">\n",
              "      <th></th>\n",
              "      <th>year</th>\n",
              "      <th>binary</th>\n",
              "      <th>budget</th>\n",
              "      <th>intgross</th>\n",
              "      <th>budget_2013$</th>\n",
              "      <th>intgross_2013$</th>\n",
              "      <th>period code</th>\n",
              "      <th>decade code</th>\n",
              "    </tr>\n",
              "  </thead>\n",
              "  <tbody>\n",
              "    <tr>\n",
              "      <th>count</th>\n",
              "      <td>1756.000000</td>\n",
              "      <td>1756.000000</td>\n",
              "      <td>1.756000e+03</td>\n",
              "      <td>1.756000e+03</td>\n",
              "      <td>1.756000e+03</td>\n",
              "      <td>1.756000e+03</td>\n",
              "      <td>1756.000000</td>\n",
              "      <td>1756.000000</td>\n",
              "    </tr>\n",
              "    <tr>\n",
              "      <th>mean</th>\n",
              "      <td>2002.538155</td>\n",
              "      <td>0.448178</td>\n",
              "      <td>4.524015e+07</td>\n",
              "      <td>1.509249e+08</td>\n",
              "      <td>5.597615e+07</td>\n",
              "      <td>1.986303e+08</td>\n",
              "      <td>2.884396</td>\n",
              "      <td>2.172551</td>\n",
              "    </tr>\n",
              "    <tr>\n",
              "      <th>std</th>\n",
              "      <td>8.986043</td>\n",
              "      <td>0.497449</td>\n",
              "      <td>4.833409e+07</td>\n",
              "      <td>2.108096e+08</td>\n",
              "      <td>5.502529e+07</td>\n",
              "      <td>2.843583e+08</td>\n",
              "      <td>1.821294</td>\n",
              "      <td>0.977443</td>\n",
              "    </tr>\n",
              "    <tr>\n",
              "      <th>min</th>\n",
              "      <td>1970.000000</td>\n",
              "      <td>0.000000</td>\n",
              "      <td>7.000000e+03</td>\n",
              "      <td>8.280000e+02</td>\n",
              "      <td>8.632000e+03</td>\n",
              "      <td>8.990000e+02</td>\n",
              "      <td>1.000000</td>\n",
              "      <td>1.000000</td>\n",
              "    </tr>\n",
              "    <tr>\n",
              "      <th>25%</th>\n",
              "      <td>1998.000000</td>\n",
              "      <td>0.000000</td>\n",
              "      <td>1.200000e+07</td>\n",
              "      <td>2.617866e+07</td>\n",
              "      <td>1.623422e+07</td>\n",
              "      <td>3.356403e+07</td>\n",
              "      <td>2.000000</td>\n",
              "      <td>2.000000</td>\n",
              "    </tr>\n",
              "    <tr>\n",
              "      <th>50%</th>\n",
              "      <td>2005.000000</td>\n",
              "      <td>0.000000</td>\n",
              "      <td>3.000000e+07</td>\n",
              "      <td>7.736156e+07</td>\n",
              "      <td>3.738811e+07</td>\n",
              "      <td>9.678872e+07</td>\n",
              "      <td>2.000000</td>\n",
              "      <td>2.000000</td>\n",
              "    </tr>\n",
              "    <tr>\n",
              "      <th>75%</th>\n",
              "      <td>2009.000000</td>\n",
              "      <td>1.000000</td>\n",
              "      <td>6.000000e+07</td>\n",
              "      <td>1.906000e+08</td>\n",
              "      <td>7.986357e+07</td>\n",
              "      <td>2.419660e+08</td>\n",
              "      <td>4.000000</td>\n",
              "      <td>3.000000</td>\n",
              "    </tr>\n",
              "    <tr>\n",
              "      <th>max</th>\n",
              "      <td>2013.000000</td>\n",
              "      <td>1.000000</td>\n",
              "      <td>4.250000e+08</td>\n",
              "      <td>2.783919e+09</td>\n",
              "      <td>4.614359e+08</td>\n",
              "      <td>3.171931e+09</td>\n",
              "      <td>9.000000</td>\n",
              "      <td>5.000000</td>\n",
              "    </tr>\n",
              "  </tbody>\n",
              "</table>\n",
              "</div>\n",
              "    <div class=\"colab-df-buttons\">\n",
              "\n",
              "  <div class=\"colab-df-container\">\n",
              "    <button class=\"colab-df-convert\" onclick=\"convertToInteractive('df-2e2e836b-6549-420f-b7fb-1f9cf3593e11')\"\n",
              "            title=\"Convert this dataframe to an interactive table.\"\n",
              "            style=\"display:none;\">\n",
              "\n",
              "  <svg xmlns=\"http://www.w3.org/2000/svg\" height=\"24px\" viewBox=\"0 -960 960 960\">\n",
              "    <path d=\"M120-120v-720h720v720H120Zm60-500h600v-160H180v160Zm220 220h160v-160H400v160Zm0 220h160v-160H400v160ZM180-400h160v-160H180v160Zm440 0h160v-160H620v160ZM180-180h160v-160H180v160Zm440 0h160v-160H620v160Z\"/>\n",
              "  </svg>\n",
              "    </button>\n",
              "\n",
              "  <style>\n",
              "    .colab-df-container {\n",
              "      display:flex;\n",
              "      gap: 12px;\n",
              "    }\n",
              "\n",
              "    .colab-df-convert {\n",
              "      background-color: #E8F0FE;\n",
              "      border: none;\n",
              "      border-radius: 50%;\n",
              "      cursor: pointer;\n",
              "      display: none;\n",
              "      fill: #1967D2;\n",
              "      height: 32px;\n",
              "      padding: 0 0 0 0;\n",
              "      width: 32px;\n",
              "    }\n",
              "\n",
              "    .colab-df-convert:hover {\n",
              "      background-color: #E2EBFA;\n",
              "      box-shadow: 0px 1px 2px rgba(60, 64, 67, 0.3), 0px 1px 3px 1px rgba(60, 64, 67, 0.15);\n",
              "      fill: #174EA6;\n",
              "    }\n",
              "\n",
              "    .colab-df-buttons div {\n",
              "      margin-bottom: 4px;\n",
              "    }\n",
              "\n",
              "    [theme=dark] .colab-df-convert {\n",
              "      background-color: #3B4455;\n",
              "      fill: #D2E3FC;\n",
              "    }\n",
              "\n",
              "    [theme=dark] .colab-df-convert:hover {\n",
              "      background-color: #434B5C;\n",
              "      box-shadow: 0px 1px 3px 1px rgba(0, 0, 0, 0.15);\n",
              "      filter: drop-shadow(0px 1px 2px rgba(0, 0, 0, 0.3));\n",
              "      fill: #FFFFFF;\n",
              "    }\n",
              "  </style>\n",
              "\n",
              "    <script>\n",
              "      const buttonEl =\n",
              "        document.querySelector('#df-2e2e836b-6549-420f-b7fb-1f9cf3593e11 button.colab-df-convert');\n",
              "      buttonEl.style.display =\n",
              "        google.colab.kernel.accessAllowed ? 'block' : 'none';\n",
              "\n",
              "      async function convertToInteractive(key) {\n",
              "        const element = document.querySelector('#df-2e2e836b-6549-420f-b7fb-1f9cf3593e11');\n",
              "        const dataTable =\n",
              "          await google.colab.kernel.invokeFunction('convertToInteractive',\n",
              "                                                    [key], {});\n",
              "        if (!dataTable) return;\n",
              "\n",
              "        const docLinkHtml = 'Like what you see? Visit the ' +\n",
              "          '<a target=\"_blank\" href=https://colab.research.google.com/notebooks/data_table.ipynb>data table notebook</a>'\n",
              "          + ' to learn more about interactive tables.';\n",
              "        element.innerHTML = '';\n",
              "        dataTable['output_type'] = 'display_data';\n",
              "        await google.colab.output.renderOutput(dataTable, element);\n",
              "        const docLink = document.createElement('div');\n",
              "        docLink.innerHTML = docLinkHtml;\n",
              "        element.appendChild(docLink);\n",
              "      }\n",
              "    </script>\n",
              "  </div>\n",
              "\n",
              "\n",
              "<div id=\"df-2a16b51a-bf27-408b-b53f-70e171f9eec3\">\n",
              "  <button class=\"colab-df-quickchart\" onclick=\"quickchart('df-2a16b51a-bf27-408b-b53f-70e171f9eec3')\"\n",
              "            title=\"Suggest charts\"\n",
              "            style=\"display:none;\">\n",
              "\n",
              "<svg xmlns=\"http://www.w3.org/2000/svg\" height=\"24px\"viewBox=\"0 0 24 24\"\n",
              "     width=\"24px\">\n",
              "    <g>\n",
              "        <path d=\"M19 3H5c-1.1 0-2 .9-2 2v14c0 1.1.9 2 2 2h14c1.1 0 2-.9 2-2V5c0-1.1-.9-2-2-2zM9 17H7v-7h2v7zm4 0h-2V7h2v10zm4 0h-2v-4h2v4z\"/>\n",
              "    </g>\n",
              "</svg>\n",
              "  </button>\n",
              "\n",
              "<style>\n",
              "  .colab-df-quickchart {\n",
              "      --bg-color: #E8F0FE;\n",
              "      --fill-color: #1967D2;\n",
              "      --hover-bg-color: #E2EBFA;\n",
              "      --hover-fill-color: #174EA6;\n",
              "      --disabled-fill-color: #AAA;\n",
              "      --disabled-bg-color: #DDD;\n",
              "  }\n",
              "\n",
              "  [theme=dark] .colab-df-quickchart {\n",
              "      --bg-color: #3B4455;\n",
              "      --fill-color: #D2E3FC;\n",
              "      --hover-bg-color: #434B5C;\n",
              "      --hover-fill-color: #FFFFFF;\n",
              "      --disabled-bg-color: #3B4455;\n",
              "      --disabled-fill-color: #666;\n",
              "  }\n",
              "\n",
              "  .colab-df-quickchart {\n",
              "    background-color: var(--bg-color);\n",
              "    border: none;\n",
              "    border-radius: 50%;\n",
              "    cursor: pointer;\n",
              "    display: none;\n",
              "    fill: var(--fill-color);\n",
              "    height: 32px;\n",
              "    padding: 0;\n",
              "    width: 32px;\n",
              "  }\n",
              "\n",
              "  .colab-df-quickchart:hover {\n",
              "    background-color: var(--hover-bg-color);\n",
              "    box-shadow: 0 1px 2px rgba(60, 64, 67, 0.3), 0 1px 3px 1px rgba(60, 64, 67, 0.15);\n",
              "    fill: var(--button-hover-fill-color);\n",
              "  }\n",
              "\n",
              "  .colab-df-quickchart-complete:disabled,\n",
              "  .colab-df-quickchart-complete:disabled:hover {\n",
              "    background-color: var(--disabled-bg-color);\n",
              "    fill: var(--disabled-fill-color);\n",
              "    box-shadow: none;\n",
              "  }\n",
              "\n",
              "  .colab-df-spinner {\n",
              "    border: 2px solid var(--fill-color);\n",
              "    border-color: transparent;\n",
              "    border-bottom-color: var(--fill-color);\n",
              "    animation:\n",
              "      spin 1s steps(1) infinite;\n",
              "  }\n",
              "\n",
              "  @keyframes spin {\n",
              "    0% {\n",
              "      border-color: transparent;\n",
              "      border-bottom-color: var(--fill-color);\n",
              "      border-left-color: var(--fill-color);\n",
              "    }\n",
              "    20% {\n",
              "      border-color: transparent;\n",
              "      border-left-color: var(--fill-color);\n",
              "      border-top-color: var(--fill-color);\n",
              "    }\n",
              "    30% {\n",
              "      border-color: transparent;\n",
              "      border-left-color: var(--fill-color);\n",
              "      border-top-color: var(--fill-color);\n",
              "      border-right-color: var(--fill-color);\n",
              "    }\n",
              "    40% {\n",
              "      border-color: transparent;\n",
              "      border-right-color: var(--fill-color);\n",
              "      border-top-color: var(--fill-color);\n",
              "    }\n",
              "    60% {\n",
              "      border-color: transparent;\n",
              "      border-right-color: var(--fill-color);\n",
              "    }\n",
              "    80% {\n",
              "      border-color: transparent;\n",
              "      border-right-color: var(--fill-color);\n",
              "      border-bottom-color: var(--fill-color);\n",
              "    }\n",
              "    90% {\n",
              "      border-color: transparent;\n",
              "      border-bottom-color: var(--fill-color);\n",
              "    }\n",
              "  }\n",
              "</style>\n",
              "\n",
              "  <script>\n",
              "    async function quickchart(key) {\n",
              "      const quickchartButtonEl =\n",
              "        document.querySelector('#' + key + ' button');\n",
              "      quickchartButtonEl.disabled = true;  // To prevent multiple clicks.\n",
              "      quickchartButtonEl.classList.add('colab-df-spinner');\n",
              "      try {\n",
              "        const charts = await google.colab.kernel.invokeFunction(\n",
              "            'suggestCharts', [key], {});\n",
              "      } catch (error) {\n",
              "        console.error('Error during call to suggestCharts:', error);\n",
              "      }\n",
              "      quickchartButtonEl.classList.remove('colab-df-spinner');\n",
              "      quickchartButtonEl.classList.add('colab-df-quickchart-complete');\n",
              "    }\n",
              "    (() => {\n",
              "      let quickchartButtonEl =\n",
              "        document.querySelector('#df-2a16b51a-bf27-408b-b53f-70e171f9eec3 button');\n",
              "      quickchartButtonEl.style.display =\n",
              "        google.colab.kernel.accessAllowed ? 'block' : 'none';\n",
              "    })();\n",
              "  </script>\n",
              "</div>\n",
              "\n",
              "    </div>\n",
              "  </div>\n"
            ],
            "application/vnd.google.colaboratory.intrinsic+json": {
              "type": "dataframe",
              "summary": "{\n  \"name\": \"data\",\n  \"rows\": 8,\n  \"fields\": [\n    {\n      \"column\": \"year\",\n      \"properties\": {\n        \"dtype\": \"number\",\n        \"std\": 696.8368094681077,\n        \"min\": 8.986043107214154,\n        \"max\": 2013.0,\n        \"num_unique_values\": 8,\n        \"samples\": [\n          2002.5381548974942,\n          2005.0,\n          1756.0\n        ],\n        \"semantic_type\": \"\",\n        \"description\": \"\"\n      }\n    },\n    {\n      \"column\": \"binary\",\n      \"properties\": {\n        \"dtype\": \"number\",\n        \"std\": 620.6911163810302,\n        \"min\": 0.0,\n        \"max\": 1756.0,\n        \"num_unique_values\": 5,\n        \"samples\": [\n          0.44817767653758545,\n          1.0,\n          0.49744885838009345\n        ],\n        \"semantic_type\": \"\",\n        \"description\": \"\"\n      }\n    },\n    {\n      \"column\": \"budget\",\n      \"properties\": {\n        \"dtype\": \"number\",\n        \"std\": 142182703.77894053,\n        \"min\": 1756.0,\n        \"max\": 425000000.0,\n        \"num_unique_values\": 8,\n        \"samples\": [\n          45240147.45444191,\n          30000000.0,\n          1756.0\n        ],\n        \"semantic_type\": \"\",\n        \"description\": \"\"\n      }\n    },\n    {\n      \"column\": \"intgross\",\n      \"properties\": {\n        \"dtype\": \"number\",\n        \"std\": 954792242.1241207,\n        \"min\": 828.0,\n        \"max\": 2783918982.0,\n        \"num_unique_values\": 8,\n        \"samples\": [\n          150924902.9476082,\n          77361556.0,\n          1756.0\n        ],\n        \"semantic_type\": \"\",\n        \"description\": \"\"\n      }\n    },\n    {\n      \"column\": \"budget_2013$\",\n      \"properties\": {\n        \"dtype\": \"number\",\n        \"std\": 153451271.23004133,\n        \"min\": 1756.0,\n        \"max\": 461435929.0,\n        \"num_unique_values\": 8,\n        \"samples\": [\n          55976146.8712984,\n          37388114.0,\n          1756.0\n        ],\n        \"semantic_type\": \"\",\n        \"description\": \"\"\n      }\n    },\n    {\n      \"column\": \"intgross_2013$\",\n      \"properties\": {\n        \"dtype\": \"number\",\n        \"std\": 1083853450.8259993,\n        \"min\": 899.0,\n        \"max\": 3171930973.0,\n        \"num_unique_values\": 8,\n        \"samples\": [\n          198630269.46013668,\n          96788722.0,\n          1756.0\n        ],\n        \"semantic_type\": \"\",\n        \"description\": \"\"\n      }\n    },\n    {\n      \"column\": \"period code\",\n      \"properties\": {\n        \"dtype\": \"number\",\n        \"std\": 619.6980134548495,\n        \"min\": 1.0,\n        \"max\": 1756.0,\n        \"num_unique_values\": 7,\n        \"samples\": [\n          1756.0,\n          2.884396355353075,\n          4.0\n        ],\n        \"semantic_type\": \"\",\n        \"description\": \"\"\n      }\n    },\n    {\n      \"column\": \"decade code\",\n      \"properties\": {\n        \"dtype\": \"number\",\n        \"std\": 620.0253710509132,\n        \"min\": 0.9774427272842827,\n        \"max\": 1756.0,\n        \"num_unique_values\": 7,\n        \"samples\": [\n          1756.0,\n          2.1725512528473803,\n          3.0\n        ],\n        \"semantic_type\": \"\",\n        \"description\": \"\"\n      }\n    }\n  ]\n}"
            }
          },
          "metadata": {},
          "execution_count": 106
        }
      ],
      "source": [
        "data.describe()"
      ]
    },
    {
      "cell_type": "code",
      "execution_count": 107,
      "metadata": {
        "colab": {
          "base_uri": "https://localhost:8080/"
        },
        "id": "BL0Y2rUkjdQJ",
        "outputId": "41162681-bfcc-4862-9ebd-e141d2eed787"
      },
      "outputs": [
        {
          "output_type": "execute_result",
          "data": {
            "text/plain": [
              "budget\n",
              "30000000.0     74\n",
              "20000000.0     74\n",
              "15000000.0     58\n",
              "25000000.0     57\n",
              "50000000.0     56\n",
              "               ..\n",
              "2750000.0       1\n",
              "22500000.0      1\n",
              "57500000.0      1\n",
              "230000000.0     1\n",
              "2200000.0       1\n",
              "Name: count, Length: 267, dtype: int64"
            ]
          },
          "metadata": {},
          "execution_count": 107
        }
      ],
      "source": [
        "data['budget'].value_counts()"
      ]
    },
    {
      "cell_type": "code",
      "execution_count": 108,
      "metadata": {
        "id": "7FgdySkHdv-u"
      },
      "outputs": [],
      "source": [
        "data['budget_2013$'].dropna(inplace = True)"
      ]
    },
    {
      "cell_type": "code",
      "source": [
        "data.isna().sum()"
      ],
      "metadata": {
        "colab": {
          "base_uri": "https://localhost:8080/"
        },
        "id": "NHVtS_1b8Svn",
        "outputId": "206315d2-b65a-4b8e-d4cc-81bf574aa4dc"
      },
      "execution_count": 109,
      "outputs": [
        {
          "output_type": "execute_result",
          "data": {
            "text/plain": [
              "year              0\n",
              "imdb              0\n",
              "title             0\n",
              "test              0\n",
              "clean_test        0\n",
              "binary            0\n",
              "budget            0\n",
              "domgross          0\n",
              "intgross          0\n",
              "code              0\n",
              "budget_2013$      0\n",
              "domgross_2013$    0\n",
              "intgross_2013$    0\n",
              "period code       0\n",
              "decade code       0\n",
              "dtype: int64"
            ]
          },
          "metadata": {},
          "execution_count": 109
        }
      ]
    },
    {
      "cell_type": "code",
      "source": [
        "data['domgross'] = pd.to_numeric(data['domgross'],errors='coerce')"
      ],
      "metadata": {
        "id": "or3Ltav38VRw"
      },
      "execution_count": 110,
      "outputs": []
    },
    {
      "cell_type": "code",
      "source": [
        "data['domgross_2013$'] = pd.to_numeric(data['domgross_2013$'],errors='coerce')"
      ],
      "metadata": {
        "id": "SPzb12AI9_RE"
      },
      "execution_count": 111,
      "outputs": []
    },
    {
      "cell_type": "code",
      "source": [
        "data.isna().sum()"
      ],
      "metadata": {
        "id": "yIWD59ek9Z9L",
        "colab": {
          "base_uri": "https://localhost:8080/"
        },
        "outputId": "aaae302e-5143-4b61-af9b-a9a3eb4d8923"
      },
      "execution_count": 112,
      "outputs": [
        {
          "output_type": "execute_result",
          "data": {
            "text/plain": [
              "year              0\n",
              "imdb              0\n",
              "title             0\n",
              "test              0\n",
              "clean_test        0\n",
              "binary            0\n",
              "budget            0\n",
              "domgross          0\n",
              "intgross          0\n",
              "code              0\n",
              "budget_2013$      0\n",
              "domgross_2013$    0\n",
              "intgross_2013$    0\n",
              "period code       0\n",
              "decade code       0\n",
              "dtype: int64"
            ]
          },
          "metadata": {},
          "execution_count": 112
        }
      ]
    },
    {
      "cell_type": "code",
      "source": [
        "data[['budget','intgross_2013$','period code','decade code','intgross']] = data[['budget','intgross_2013$','period code','decade code','intgross']].astype(int)"
      ],
      "metadata": {
        "id": "vFsqQkweql6q"
      },
      "execution_count": 113,
      "outputs": []
    },
    {
      "cell_type": "code",
      "source": [
        "columns_to_check = [ 'budget', 'domgross', 'intgross', 'budget',  'intgross', 'budget_2013$'      ,'domgross_2013$'    ,'intgross_2013$']\n",
        "\n",
        "for col in columns_to_check:\n",
        "    print(f\"Outliers in '{col}' column:\")\n",
        "\n",
        "    # Based on IQR\n",
        "    q1 = data[col].quantile(0.25)\n",
        "    q3 = data[col].quantile(0.75)\n",
        "    iqr = q3 - q1\n",
        "    outliers_iqr = (data[col] < q1 - 1.5 * iqr) | (data[col] > q3 + 1.5 * iqr)\n",
        "    print(\"\\nBased on IQR:\")\n",
        "    print(outliers_iqr.value_counts())\n",
        "\n",
        "    print(\"\\n---\\n\")"
      ],
      "metadata": {
        "id": "FMzf5qfU8uKT",
        "colab": {
          "base_uri": "https://localhost:8080/"
        },
        "outputId": "554cb7d8-9dcb-42cf-ea49-65b68a54bc51"
      },
      "execution_count": 114,
      "outputs": [
        {
          "output_type": "stream",
          "name": "stdout",
          "text": [
            "Outliers in 'budget' column:\n",
            "\n",
            "Based on IQR:\n",
            "budget\n",
            "False    1636\n",
            "True      120\n",
            "Name: count, dtype: int64\n",
            "\n",
            "---\n",
            "\n",
            "Outliers in 'domgross' column:\n",
            "\n",
            "Based on IQR:\n",
            "domgross\n",
            "False    1644\n",
            "True      112\n",
            "Name: count, dtype: int64\n",
            "\n",
            "---\n",
            "\n",
            "Outliers in 'intgross' column:\n",
            "\n",
            "Based on IQR:\n",
            "intgross\n",
            "False    1616\n",
            "True      140\n",
            "Name: count, dtype: int64\n",
            "\n",
            "---\n",
            "\n",
            "Outliers in 'budget' column:\n",
            "\n",
            "Based on IQR:\n",
            "budget\n",
            "False    1636\n",
            "True      120\n",
            "Name: count, dtype: int64\n",
            "\n",
            "---\n",
            "\n",
            "Outliers in 'intgross' column:\n",
            "\n",
            "Based on IQR:\n",
            "intgross\n",
            "False    1616\n",
            "True      140\n",
            "Name: count, dtype: int64\n",
            "\n",
            "---\n",
            "\n",
            "Outliers in 'budget_2013$' column:\n",
            "\n",
            "Based on IQR:\n",
            "budget_2013$\n",
            "False    1676\n",
            "True       80\n",
            "Name: count, dtype: int64\n",
            "\n",
            "---\n",
            "\n",
            "Outliers in 'domgross_2013$' column:\n",
            "\n",
            "Based on IQR:\n",
            "domgross_2013$\n",
            "False    1632\n",
            "True      124\n",
            "Name: count, dtype: int64\n",
            "\n",
            "---\n",
            "\n",
            "Outliers in 'intgross_2013$' column:\n",
            "\n",
            "Based on IQR:\n",
            "intgross_2013$\n",
            "False    1595\n",
            "True      161\n",
            "Name: count, dtype: int64\n",
            "\n",
            "---\n",
            "\n"
          ]
        }
      ]
    },
    {
      "cell_type": "code",
      "source": [
        "data.boxplot(column='intgross_2013$', vert=False)\n"
      ],
      "metadata": {
        "colab": {
          "base_uri": "https://localhost:8080/",
          "height": 465
        },
        "id": "MwlXoijJ--7c",
        "outputId": "a0884821-abcb-4e6c-d84a-7d753d95c0f4"
      },
      "execution_count": 115,
      "outputs": [
        {
          "output_type": "execute_result",
          "data": {
            "text/plain": [
              "<Axes: >"
            ]
          },
          "metadata": {},
          "execution_count": 115
        },
        {
          "output_type": "display_data",
          "data": {
            "text/plain": [
              "<Figure size 640x480 with 1 Axes>"
            ],
            "image/png": "[encoded data removed]"
          },
          "metadata": {}
        }
      ]
    },
    {
      "cell_type": "code",
      "source": [
        "q1,q3,iqr"
      ],
      "metadata": {
        "id": "8zgNqDAol8--",
        "outputId": "61b8038b-b578-47a6-8c6a-d3d13f1f130c",
        "colab": {
          "base_uri": "https://localhost:8080/"
        }
      },
      "execution_count": 116,
      "outputs": [
        {
          "output_type": "execute_result",
          "data": {
            "text/plain": [
              "(33564029.0, 241966041.75, 208402012.75)"
            ]
          },
          "metadata": {},
          "execution_count": 116
        }
      ]
    },
    {
      "cell_type": "code",
      "source": [
        "lower_limit = q1 - 1.5 * iqr\n",
        "upper_limit = q3 + 1.5 * iqr\n",
        "lower_limit, upper_limit"
      ],
      "metadata": {
        "id": "eUAxKys1mM3E",
        "outputId": "99308607-673b-4228-9f75-c48f2268f2a9",
        "colab": {
          "base_uri": "https://localhost:8080/"
        }
      },
      "execution_count": 117,
      "outputs": [
        {
          "output_type": "execute_result",
          "data": {
            "text/plain": [
              "(-279038990.125, 554569060.875)"
            ]
          },
          "metadata": {},
          "execution_count": 117
        }
      ]
    },
    {
      "cell_type": "code",
      "source": [
        "import seaborn as sns\n",
        "sns.boxplot(data['intgross_2013$'])\n"
      ],
      "metadata": {
        "id": "xuL7-1xmnEVe",
        "outputId": "d091096e-c148-4c41-d527-fb73c7c66e06",
        "colab": {
          "base_uri": "https://localhost:8080/",
          "height": 443
        }
      },
      "execution_count": 118,
      "outputs": [
        {
          "output_type": "execute_result",
          "data": {
            "text/plain": [
              "<Axes: ylabel='intgross_2013$'>"
            ]
          },
          "metadata": {},
          "execution_count": 118
        },
        {
          "output_type": "display_data",
          "data": {
            "text/plain": [
              "<Figure size 640x480 with 1 Axes>"
            ],
            "image/png": "[encoded data removed]"
          },
          "metadata": {}
        }
      ]
    },
    {
      "cell_type": "code",
      "source": [
        "rows_to_remove = data.loc[(data['intgross_2013$'] > upper_limit) | (data['intgross_2013$'] < lower_limit), 'intgross_2013$']\n",
        "rows_to_remove"
      ],
      "metadata": {
        "id": "kzOMctvRnPYO",
        "outputId": "d496b6a7-62dd-4e75-ce66-fd9107ae7950",
        "colab": {
          "base_uri": "https://localhost:8080/"
        }
      },
      "execution_count": 119,
      "outputs": [
        {
          "output_type": "execute_result",
          "data": {
            "text/plain": [
              "17       970766005\n",
              "25       788128122\n",
              "26      1004550114\n",
              "30       708714796\n",
              "36      1212692272\n",
              "           ...    \n",
              "1780     734145189\n",
              "1783    2111900435\n",
              "1784     837011132\n",
              "1787    1496119403\n",
              "1789     616827003\n",
              "Name: intgross_2013$, Length: 161, dtype: int64"
            ]
          },
          "metadata": {},
          "execution_count": 119
        }
      ]
    },
    {
      "cell_type": "code",
      "source": [
        "data.drop(rows_to_remove.index,inplace=True)"
      ],
      "metadata": {
        "id": "C36pDuOMovQ-"
      },
      "execution_count": 126,
      "outputs": []
    },
    {
      "cell_type": "code",
      "source": [
        "sns.boxplot(data['intgross_2013$'])"
      ],
      "metadata": {
        "id": "buJbgo6QpIPh",
        "outputId": "a3bbe56b-c013-4fe6-d510-5b65fd7684f8",
        "colab": {
          "base_uri": "https://localhost:8080/",
          "height": 443
        }
      },
      "execution_count": 127,
      "outputs": [
        {
          "output_type": "execute_result",
          "data": {
            "text/plain": [
              "<Axes: ylabel='intgross_2013$'>"
            ]
          },
          "metadata": {},
          "execution_count": 127
        },
        {
          "output_type": "display_data",
          "data": {
            "text/plain": [
              "<Figure size 640x480 with 1 Axes>"
            ],
            "image/png": "[encoded data removed]"
          },
          "metadata": {}
        }
      ]
    },
    {
      "cell_type": "code",
      "source": [
        "sns.boxplot(data['budget'])"
      ],
      "metadata": {
        "id": "Tepd8Q-JtX3Z",
        "outputId": "79d07149-4b53-4de0-e1e0-f828209f190d",
        "colab": {
          "base_uri": "https://localhost:8080/",
          "height": 443
        }
      },
      "execution_count": 128,
      "outputs": [
        {
          "output_type": "execute_result",
          "data": {
            "text/plain": [
              "<Axes: ylabel='budget'>"
            ]
          },
          "metadata": {},
          "execution_count": 128
        },
        {
          "output_type": "display_data",
          "data": {
            "text/plain": [
              "<Figure size 640x480 with 1 Axes>"
            ],
            "image/png": "[encoded data removed]"
          },
          "metadata": {}
        }
      ]
    },
    {
      "cell_type": "code",
      "source": [],
      "metadata": {
        "id": "fUJtzjd5uNtx"
      },
      "execution_count": null,
      "outputs": []
    }
  ]
}